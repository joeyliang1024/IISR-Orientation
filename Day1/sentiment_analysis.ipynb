{
 "cells": [
  {
   "cell_type": "markdown",
   "metadata": {
    "id": "iXMNdA5S_roK"
   },
   "source": [
    "## Import IMDB dataset"
   ]
  },
  {
   "cell_type": "code",
   "execution_count": null,
   "metadata": {
    "id": "Vi2GIwmVufwd"
   },
   "outputs": [],
   "source": [
    "import torch\n",
    "import pandas as pd\n",
    "import nltk\n",
    "nltk.download('punkt')\n",
    "\n",
    "def download_file_from_gdrive(url, pathXX, output_name=False):\n",
    "  var1 = url.split(\"/\")[5]\n",
    "  %cd $pathXX\n",
    "  if output_name==False:\n",
    "    !gdown $var1\n",
    "  else:\n",
    "    out = pathXX + output_name\n",
    "    !gdown $var1 -O $out\n",
    "  %cd '/content'\n",
    "\n",
    "path = '/content'\n",
    "csv_file_name = '/example2.xlsm'\n",
    "\n",
    "url = 'https://drive.google.com/file/d/1t5f333SlKjAp4hrJt7yd6vBpa4xaw26c/view?usp=drive_link'\n",
    "\n",
    "download_file_from_gdrive(url, path, output_name=csv_file_name)\n",
    "\n",
    "df = pd.read_csv(path + csv_file_name)"
   ]
  },
  {
   "cell_type": "code",
   "execution_count": 4,
   "metadata": {},
   "outputs": [],
   "source": [
    "import torch\n",
    "import pandas as pd\n",
    "import nltk\n",
    "df = pd.read_csv(\"IMDB Dataset.csv\")"
   ]
  },
  {
   "cell_type": "code",
   "execution_count": 5,
   "metadata": {
    "id": "pc_H5qiavdAj"
   },
   "outputs": [
    {
     "data": {
      "text/html": [
       "<div>\n",
       "<style scoped>\n",
       "    .dataframe tbody tr th:only-of-type {\n",
       "        vertical-align: middle;\n",
       "    }\n",
       "\n",
       "    .dataframe tbody tr th {\n",
       "        vertical-align: top;\n",
       "    }\n",
       "\n",
       "    .dataframe thead th {\n",
       "        text-align: right;\n",
       "    }\n",
       "</style>\n",
       "<table border=\"1\" class=\"dataframe\">\n",
       "  <thead>\n",
       "    <tr style=\"text-align: right;\">\n",
       "      <th></th>\n",
       "      <th>review</th>\n",
       "      <th>sentiment</th>\n",
       "    </tr>\n",
       "  </thead>\n",
       "  <tbody>\n",
       "    <tr>\n",
       "      <th>49995</th>\n",
       "      <td>I thought this movie did a down right good job...</td>\n",
       "      <td>positive</td>\n",
       "    </tr>\n",
       "    <tr>\n",
       "      <th>49996</th>\n",
       "      <td>Bad plot, bad dialogue, bad acting, idiotic di...</td>\n",
       "      <td>negative</td>\n",
       "    </tr>\n",
       "    <tr>\n",
       "      <th>49997</th>\n",
       "      <td>I am a Catholic taught in parochial elementary...</td>\n",
       "      <td>negative</td>\n",
       "    </tr>\n",
       "    <tr>\n",
       "      <th>49998</th>\n",
       "      <td>I'm going to have to disagree with the previou...</td>\n",
       "      <td>negative</td>\n",
       "    </tr>\n",
       "    <tr>\n",
       "      <th>49999</th>\n",
       "      <td>No one expects the Star Trek movies to be high...</td>\n",
       "      <td>negative</td>\n",
       "    </tr>\n",
       "  </tbody>\n",
       "</table>\n",
       "</div>"
      ],
      "text/plain": [
       "                                                  review sentiment\n",
       "49995  I thought this movie did a down right good job...  positive\n",
       "49996  Bad plot, bad dialogue, bad acting, idiotic di...  negative\n",
       "49997  I am a Catholic taught in parochial elementary...  negative\n",
       "49998  I'm going to have to disagree with the previou...  negative\n",
       "49999  No one expects the Star Trek movies to be high...  negative"
      ]
     },
     "execution_count": 5,
     "metadata": {},
     "output_type": "execute_result"
    }
   ],
   "source": [
    "df.tail()"
   ]
  },
  {
   "cell_type": "markdown",
   "metadata": {
    "id": "WLWWlpkA-PGP"
   },
   "source": [
    "## Since the time is limited we will try only half of the dataset"
   ]
  },
  {
   "cell_type": "code",
   "execution_count": 6,
   "metadata": {
    "id": "Rm3ckgsyq-S9"
   },
   "outputs": [],
   "source": [
    "sentences = []\n",
    "\n",
    "for idx, text in enumerate(df['review']):\n",
    "    if idx == 25000: break\n",
    "    text_processed = nltk.word_tokenize(text)\n",
    "    text_processed = [token.lower() for token in text_processed]\n",
    "    sentences.append(text_processed)"
   ]
  },
  {
   "cell_type": "code",
   "execution_count": 7,
   "metadata": {
    "id": "1qLUwlD5t-jT"
   },
   "outputs": [
    {
     "name": "stdout",
     "output_type": "stream",
     "text": [
      "['one', 'of', 'the', 'other', 'reviewers', 'has', 'mentioned', 'that', 'after', 'watching', 'just', '1', 'oz', 'episode', 'you', \"'ll\", 'be', 'hooked', '.', 'they', 'are', 'right', ',', 'as', 'this', 'is', 'exactly', 'what', 'happened', 'with', 'me.', '<', 'br', '/', '>', '<', 'br', '/', '>', 'the', 'first', 'thing', 'that', 'struck', 'me', 'about', 'oz', 'was', 'its', 'brutality', 'and', 'unflinching', 'scenes', 'of', 'violence', ',', 'which', 'set', 'in', 'right', 'from', 'the', 'word', 'go', '.', 'trust', 'me', ',', 'this', 'is', 'not', 'a', 'show', 'for', 'the', 'faint', 'hearted', 'or', 'timid', '.', 'this', 'show', 'pulls', 'no', 'punches', 'with', 'regards', 'to', 'drugs', ',', 'sex', 'or', 'violence', '.', 'its', 'is', 'hardcore', ',', 'in', 'the', 'classic', 'use', 'of', 'the', 'word.', '<', 'br', '/', '>', '<', 'br', '/', '>', 'it', 'is', 'called', 'oz', 'as', 'that', 'is', 'the', 'nickname', 'given', 'to', 'the', 'oswald', 'maximum', 'security', 'state', 'penitentary', '.', 'it', 'focuses', 'mainly', 'on', 'emerald', 'city', ',', 'an', 'experimental', 'section', 'of', 'the', 'prison', 'where', 'all', 'the', 'cells', 'have', 'glass', 'fronts', 'and', 'face', 'inwards', ',', 'so', 'privacy', 'is', 'not', 'high', 'on', 'the', 'agenda', '.', 'em', 'city', 'is', 'home', 'to', 'many', '..', 'aryans', ',', 'muslims', ',', 'gangstas', ',', 'latinos', ',', 'christians', ',', 'italians', ',', 'irish', 'and', 'more', '....', 'so', 'scuffles', ',', 'death', 'stares', ',', 'dodgy', 'dealings', 'and', 'shady', 'agreements', 'are', 'never', 'far', 'away.', '<', 'br', '/', '>', '<', 'br', '/', '>', 'i', 'would', 'say', 'the', 'main', 'appeal', 'of', 'the', 'show', 'is', 'due', 'to', 'the', 'fact', 'that', 'it', 'goes', 'where', 'other', 'shows', 'would', \"n't\", 'dare', '.', 'forget', 'pretty', 'pictures', 'painted', 'for', 'mainstream', 'audiences', ',', 'forget', 'charm', ',', 'forget', 'romance', '...', 'oz', 'does', \"n't\", 'mess', 'around', '.', 'the', 'first', 'episode', 'i', 'ever', 'saw', 'struck', 'me', 'as', 'so', 'nasty', 'it', 'was', 'surreal', ',', 'i', 'could', \"n't\", 'say', 'i', 'was', 'ready', 'for', 'it', ',', 'but', 'as', 'i', 'watched', 'more', ',', 'i', 'developed', 'a', 'taste', 'for', 'oz', ',', 'and', 'got', 'accustomed', 'to', 'the', 'high', 'levels', 'of', 'graphic', 'violence', '.', 'not', 'just', 'violence', ',', 'but', 'injustice', '(', 'crooked', 'guards', 'who', \"'ll\", 'be', 'sold', 'out', 'for', 'a', 'nickel', ',', 'inmates', 'who', \"'ll\", 'kill', 'on', 'order', 'and', 'get', 'away', 'with', 'it', ',', 'well', 'mannered', ',', 'middle', 'class', 'inmates', 'being', 'turned', 'into', 'prison', 'bitches', 'due', 'to', 'their', 'lack', 'of', 'street', 'skills', 'or', 'prison', 'experience', ')', 'watching', 'oz', ',', 'you', 'may', 'become', 'comfortable', 'with', 'what', 'is', 'uncomfortable', 'viewing', '....', 'thats', 'if', 'you', 'can', 'get', 'in', 'touch', 'with', 'your', 'darker', 'side', '.']\n"
     ]
    }
   ],
   "source": [
    "print(sentences[0])"
   ]
  },
  {
   "cell_type": "code",
   "execution_count": 8,
   "metadata": {
    "id": "4rvWxM1_tM2B"
   },
   "outputs": [],
   "source": [
    "labels = df.loc[:24999, ['sentiment']].values.tolist()\n",
    "labels = [l[0] for l in labels]"
   ]
  },
  {
   "cell_type": "code",
   "execution_count": 9,
   "metadata": {
    "id": "SIgylAQJvVGq"
   },
   "outputs": [
    {
     "name": "stdout",
     "output_type": "stream",
     "text": [
      "Positive labels:  12474\n",
      "Negative labels:  12526\n"
     ]
    }
   ],
   "source": [
    "print('Positive labels: ', labels.count('positive'))\n",
    "print('Negative labels: ', labels.count('negative'))"
   ]
  },
  {
   "cell_type": "markdown",
   "metadata": {
    "id": "cijp22X_bFsd"
   },
   "source": [
    "## Split the dataset into: train, valid, test"
   ]
  },
  {
   "cell_type": "code",
   "execution_count": 10,
   "metadata": {
    "id": "_hZoh7f0vaVc"
   },
   "outputs": [
    {
     "name": "stdout",
     "output_type": "stream",
     "text": [
      "Number of train: 16000\n",
      "Number of valid: 4000\n",
      "Number of test: 5000\n"
     ]
    }
   ],
   "source": [
    "import numpy as np\n",
    "from sklearn.model_selection import train_test_split\n",
    "\n",
    "train_sentences, test_sentences, train_labels, test_labels = train_test_split(sentences, labels, train_size=0.8, test_size=0.2, random_state=666, shuffle=True)\n",
    "train_sentences, valid_sentences, train_labels, valid_labels = train_test_split(train_sentences, train_labels, train_size=0.8, test_size=0.2, random_state=666, shuffle=True)\n",
    "print('Number of train:', len(train_sentences))\n",
    "print('Number of valid:', len(valid_sentences))\n",
    "print('Number of test:', len(test_sentences))"
   ]
  },
  {
   "cell_type": "markdown",
   "metadata": {
    "id": "06LOwNKybLgS"
   },
   "source": [
    "## Preprocessing: word2vec model"
   ]
  },
  {
   "cell_type": "code",
   "execution_count": 11,
   "metadata": {
    "id": "k4kwbDtVUCRZ"
   },
   "outputs": [],
   "source": [
    "import gensim\n",
    "import torch\n",
    "from gensim.models import Word2Vec\n",
    "\n",
    "word_emb_dim = 128\n",
    "embedding_model = gensim.models.word2vec.Word2Vec(train_sentences, vector_size=word_emb_dim, min_count=1)\n",
    "weights = torch.FloatTensor(embedding_model.wv.vectors) # can be used for nn.Embedding.from_pretrained(weights)"
   ]
  },
  {
   "cell_type": "code",
   "execution_count": 12,
   "metadata": {
    "id": "WzWhWpWeCagX"
   },
   "outputs": [
    {
     "name": "stdout",
     "output_type": "stream",
     "text": [
      "Vocab size: 89604\n",
      "Vocab: good\n",
      "[ 1.1331729   0.7442602  -0.78041095 -0.39027193 -1.5486224   1.2551028\n",
      " -0.903204    1.0860358   2.3495257   3.0210757  -1.234893   -0.31895626\n",
      "  1.3064848   0.30992335 -1.89763     2.6376822  -0.20230359 -0.07143996\n",
      "  2.1453857   1.2425797  -1.3284959   1.3279736  -1.0921719  -1.2870896\n",
      " -1.6045653   0.41627654 -1.7427745   1.6985307  -1.048278    0.42726782\n",
      " -1.863057   -1.8245738  -2.6353111  -0.49325308 -0.39034626  0.64110774\n",
      " -0.3205525  -0.8461578   1.0252419   0.64720213 -3.3991172  -1.8768293\n",
      " -0.00825014 -0.98135597  0.6601056   0.62314546 -1.4024781  -0.6742314\n",
      "  0.9410692   3.0448437  -0.88494366 -3.9876716   0.29727405 -1.5251865\n",
      " -0.39300022 -0.4058619  -0.69772696  0.97110975 -1.9032001   0.03671354\n",
      " -0.17333525 -0.23250581 -0.07626086  0.3099408   0.2291894  -2.0161426\n",
      "  1.7830098  -0.6811503   0.76731473  0.2280888   0.1271003  -1.6581157\n",
      "  1.7020217  -0.56240505  0.54727286  1.9625556   1.4272823   0.67814034\n",
      " -0.2909348   1.9490021   0.8588051   3.830833    0.4676042   0.05518929\n",
      " -0.23680684 -0.41358164  0.7066552  -1.9198506   2.100102   -0.44891372\n",
      "  1.6781086   0.02508045 -1.2993351   0.9865034   1.1188251   0.9452386\n",
      " -0.551286    0.70440143  1.8333552  -1.2827464   2.7931092   2.2910974\n",
      "  1.2205722  -1.2171168  -1.9426509  -1.5237595   0.7767017   3.3068461\n",
      " -1.0456849  -2.7608325   3.9542758  -1.2830538  -1.9908144   1.8875376\n",
      " -1.0144073  -0.90748525 -1.6769094   0.04413019  1.0084994   3.8587213\n",
      "  1.2527813   1.1715914   1.6500189   0.43989637  1.2614919   0.5351302\n",
      " -1.9244733  -0.5218111 ]\n"
     ]
    }
   ],
   "source": [
    "print('Vocab size:',len(embedding_model.wv))\n",
    "print('Vocab: good')\n",
    "print(embedding_model.wv['good'])"
   ]
  },
  {
   "cell_type": "markdown",
   "metadata": {
    "id": "gh6E0xB9bqLk"
   },
   "source": [
    "\"<PAD>\"## Indexing the text <br>\n",
    "Ex: <br>\n",
    "word index === word === word embedding <br>\n",
    "0 === \"\\<PAD\\>\"' === [0.0,  0.0, ...,  0.0] <br>\n",
    "63 === \"good\" === [-0.48092350363731384, 1.6767021417617798, ...]"
   ]
  },
  {
   "cell_type": "code",
   "execution_count": 15,
   "metadata": {
    "id": "McSrl4aZM8_g"
   },
   "outputs": [],
   "source": [
    "idx2word = [\"<PAD>\"] + [\"<UNK>\"] + list(embedding_model.wv.key_to_index)\n",
    "word2idx = {u:i for i, u in enumerate(idx2word)}\n",
    "\n",
    "idx2label = ['negative','positive']\n",
    "label2idx = {u:i for i, u in enumerate(idx2label)}\n",
    "\n",
    "idx2embed = [[0.0] * word_emb_dim] + [[0.5] * word_emb_dim] + embedding_model.wv[embedding_model.wv.key_to_index].tolist()\n",
    "idx2embed = {idx:embed for idx, embed in enumerate(idx2embed)}"
   ]
  },
  {
   "cell_type": "code",
   "execution_count": 16,
   "metadata": {
    "id": "7bWhmsX-LkNN"
   },
   "outputs": [
    {
     "name": "stdout",
     "output_type": "stream",
     "text": [
      "63 [1.133172869682312, 0.7442601919174194, -0.7804109454154968, -0.390271931886673, -1.5486223697662354, 1.2551027536392212, -0.9032040238380432, 1.0860358476638794, 2.3495256900787354, 3.02107572555542, -1.2348929643630981, -0.31895625591278076, 1.3064848184585571, 0.30992335081100464, -1.897629976272583, 2.6376821994781494, -0.20230358839035034, -0.0714399591088295, 2.1453857421875, 1.242579698562622, -1.3284958600997925, 1.3279736042022705, -1.0921719074249268, -1.2870895862579346, -1.6045652627944946, 0.4162765443325043, -1.742774486541748, 1.698530673980713, -1.0482779741287231, 0.42726781964302063, -1.863057017326355, -1.8245737552642822, -2.6353111267089844, -0.49325308203697205, -0.3903462588787079, 0.6411077380180359, -0.3205524981021881, -0.8461577892303467, 1.0252418518066406, 0.6472021341323853, -3.3991172313690186, -1.8768292665481567, -0.008250136859714985, -0.9813559651374817, 0.6601055860519409, 0.6231454610824585, -1.4024780988693237, -0.6742314100265503, 0.9410691857337952, 3.0448436737060547, -0.8849436640739441, -3.9876716136932373, 0.29727405309677124, -1.525186538696289, -0.39300021529197693, -0.40586191415786743, -0.6977269649505615, 0.9711097478866577, -1.9032001495361328, 0.03671353682875633, -0.1733352541923523, -0.23250581324100494, -0.07626086473464966, 0.30994078516960144, 0.22918939590454102, -2.0161426067352295, 1.7830097675323486, -0.6811503171920776, 0.7673147320747375, 0.22808879613876343, 0.12710030376911163, -1.6581157445907593, 1.7020217180252075, -0.5624050498008728, 0.5472728610038757, 1.9625556468963623, 1.4272823333740234, 0.6781403422355652, -0.29093480110168457, 1.9490021467208862, 0.8588051199913025, 3.8308329582214355, 0.4676041901111603, 0.055189285427331924, -0.23680683970451355, -0.41358163952827454, 0.7066552042961121, -1.9198505878448486, 2.100101947784424, -0.44891372323036194, 1.6781085729599, 0.025080446153879166, -1.2993351221084595, 0.9865034222602844, 1.118825078010559, 0.9452385902404785, -0.551285982131958, 0.704401433467865, 1.833355188369751, -1.282746434211731, 2.793109178543091, 2.291097402572632, 1.2205722332000732, -1.2171168327331543, -1.9426509141921997, -1.5237594842910767, 0.7767016887664795, 3.3068461418151855, -1.0456849336624146, -2.7608325481414795, 3.9542758464813232, -1.2830537557601929, -1.990814447402954, 1.8875375986099243, -1.0144072771072388, -0.9074852466583252, -1.6769094467163086, 0.04413019120693207, 1.0084993839263916, 3.8587212562561035, 1.2527812719345093, 1.1715914011001587, 1.6500189304351807, 0.4398963749408722, 1.2614918947219849, 0.5351302027702332, -1.9244732856750488, -0.5218111276626587]\n",
      "{'negative': 0, 'positive': 1}\n"
     ]
    }
   ],
   "source": [
    "print(word2idx['good'], idx2embed[word2idx['good']])\n",
    "print(label2idx)"
   ]
  },
  {
   "cell_type": "code",
   "execution_count": 17,
   "metadata": {
    "id": "Sjt7TCMn_wr4"
   },
   "outputs": [
    {
     "name": "stdout",
     "output_type": "stream",
     "text": [
      "0 [0.0, 0.0, 0.0, 0.0, 0.0, 0.0, 0.0, 0.0, 0.0, 0.0, 0.0, 0.0, 0.0, 0.0, 0.0, 0.0, 0.0, 0.0, 0.0, 0.0, 0.0, 0.0, 0.0, 0.0, 0.0, 0.0, 0.0, 0.0, 0.0, 0.0, 0.0, 0.0, 0.0, 0.0, 0.0, 0.0, 0.0, 0.0, 0.0, 0.0, 0.0, 0.0, 0.0, 0.0, 0.0, 0.0, 0.0, 0.0, 0.0, 0.0, 0.0, 0.0, 0.0, 0.0, 0.0, 0.0, 0.0, 0.0, 0.0, 0.0, 0.0, 0.0, 0.0, 0.0, 0.0, 0.0, 0.0, 0.0, 0.0, 0.0, 0.0, 0.0, 0.0, 0.0, 0.0, 0.0, 0.0, 0.0, 0.0, 0.0, 0.0, 0.0, 0.0, 0.0, 0.0, 0.0, 0.0, 0.0, 0.0, 0.0, 0.0, 0.0, 0.0, 0.0, 0.0, 0.0, 0.0, 0.0, 0.0, 0.0, 0.0, 0.0, 0.0, 0.0, 0.0, 0.0, 0.0, 0.0, 0.0, 0.0, 0.0, 0.0, 0.0, 0.0, 0.0, 0.0, 0.0, 0.0, 0.0, 0.0, 0.0, 0.0, 0.0, 0.0, 0.0, 0.0, 0.0, 0.0]\n",
      "1 [0.5, 0.5, 0.5, 0.5, 0.5, 0.5, 0.5, 0.5, 0.5, 0.5, 0.5, 0.5, 0.5, 0.5, 0.5, 0.5, 0.5, 0.5, 0.5, 0.5, 0.5, 0.5, 0.5, 0.5, 0.5, 0.5, 0.5, 0.5, 0.5, 0.5, 0.5, 0.5, 0.5, 0.5, 0.5, 0.5, 0.5, 0.5, 0.5, 0.5, 0.5, 0.5, 0.5, 0.5, 0.5, 0.5, 0.5, 0.5, 0.5, 0.5, 0.5, 0.5, 0.5, 0.5, 0.5, 0.5, 0.5, 0.5, 0.5, 0.5, 0.5, 0.5, 0.5, 0.5, 0.5, 0.5, 0.5, 0.5, 0.5, 0.5, 0.5, 0.5, 0.5, 0.5, 0.5, 0.5, 0.5, 0.5, 0.5, 0.5, 0.5, 0.5, 0.5, 0.5, 0.5, 0.5, 0.5, 0.5, 0.5, 0.5, 0.5, 0.5, 0.5, 0.5, 0.5, 0.5, 0.5, 0.5, 0.5, 0.5, 0.5, 0.5, 0.5, 0.5, 0.5, 0.5, 0.5, 0.5, 0.5, 0.5, 0.5, 0.5, 0.5, 0.5, 0.5, 0.5, 0.5, 0.5, 0.5, 0.5, 0.5, 0.5, 0.5, 0.5, 0.5, 0.5, 0.5, 0.5]\n"
     ]
    }
   ],
   "source": [
    "print(word2idx[\"<PAD>\"], idx2embed[word2idx[\"<PAD>\"]])\n",
    "print(word2idx[\"<UNK>\"], idx2embed[word2idx[\"<UNK>\"]])"
   ]
  },
  {
   "cell_type": "markdown",
   "metadata": {
    "id": "zKziW_BJcIbp"
   },
   "source": [
    "## featureVecMethod: Generate sentence embedding, that is, the word vector (word embedding) of each word (token) in the average sentence\n",
    "## Note: This method using \"average\" to generate sentence embedding is too simple, sometimes it is not a good practice, and the effect is limited"
   ]
  },
  {
   "cell_type": "code",
   "execution_count": 18,
   "metadata": {
    "id": "28joMucQLkK5"
   },
   "outputs": [],
   "source": [
    "def featureVecMethod(sentence):\n",
    "    featureVec = np.zeros(word_emb_dim, dtype=\"float32\")\n",
    "    num_words = len(sentence)\n",
    "\n",
    "    for word_idx in sentence:\n",
    "        featureVec = np.add(featureVec, idx2embed[word_idx])\n",
    "\n",
    "    featureVec = np.divide(featureVec, num_words)\n",
    "    return featureVec"
   ]
  },
  {
   "cell_type": "markdown",
   "metadata": {
    "id": "0Qd6Iilp9Qho"
   },
   "source": [
    "## Each word (token) in the sentence is mapped to the word index, and the sentence embedding of each sentence is generated using featureVecMethod\n",
    "\n",
    "## Convert sentence labels to label index\n"
   ]
  },
  {
   "cell_type": "code",
   "execution_count": 19,
   "metadata": {
    "id": "PJhUtIvzQHQG"
   },
   "outputs": [],
   "source": [
    "train_sentences_as_index = [[word2idx[\"<UNK>\"] if word not in word2idx else word2idx[word] for word in sentence] for sentence in train_sentences]\n",
    "train_sentences_as_embed = [featureVecMethod(sentence) for sentence in train_sentences_as_index]\n",
    "train_labels_as_index= [label2idx[label] for label in train_labels]\n",
    "\n",
    "valid_sentences_as_index = [[word2idx[\"<UNK>\"] if word not in word2idx else word2idx[word] for word in sentence] for sentence in valid_sentences]\n",
    "valid_sentences_as_embed = [featureVecMethod(sentence) for sentence in valid_sentences_as_index]\n",
    "valid_labels_as_index= [label2idx[label] for label in valid_labels]\n",
    "\n",
    "test_sentences_as_index = [[word2idx[\"<UNK>\"] if word not in word2idx else word2idx[word] for word in sentence] for sentence in test_sentences]\n",
    "test_sentences_as_embed = [featureVecMethod(sentence) for sentence in test_sentences_as_index]\n",
    "test_labels_as_index= [label2idx[label] for label in test_labels]"
   ]
  },
  {
   "cell_type": "markdown",
   "metadata": {
    "id": "GY8vm6tmBSki"
   },
   "source": [
    "## Sentence embedding"
   ]
  },
  {
   "cell_type": "code",
   "execution_count": 20,
   "metadata": {
    "id": "bjraLnLX5yRe"
   },
   "outputs": [
    {
     "data": {
      "text/plain": [
       "(128,\n",
       " array([-0.68445637,  0.77835786,  0.28058911, -0.35734316, -0.31145128,\n",
       "         0.05152991,  0.33568277, -0.46274022,  0.58464202,  1.01989279,\n",
       "        -1.19452357, -0.32824691,  0.73471843, -0.28986164, -0.44546042,\n",
       "         0.33596009, -0.56518345,  0.09119878, -0.58921919,  0.55158513,\n",
       "         0.19692018,  0.43019603, -0.56669847, -0.51455969, -1.22815165,\n",
       "         0.53617679, -0.9436453 ,  0.30730084, -0.09943439, -0.0227692 ,\n",
       "        -0.98791171, -0.36138572, -0.91161795,  0.33904174, -0.56480513,\n",
       "         0.42991101,  0.26731004, -0.70022155,  0.68753568,  0.01978482,\n",
       "        -0.96810363, -0.28470382, -0.79735017,  0.01796626,  0.56649702,\n",
       "        -0.06579953, -0.71555608, -0.30695886, -0.47032965,  0.01125961,\n",
       "        -0.25033075, -0.48683933,  0.30762496,  0.09399638,  0.31613472,\n",
       "        -0.64817305, -0.06695537,  0.58206337, -0.26738638,  0.22667764,\n",
       "        -0.19950151,  0.53837989,  0.58406191,  0.34335568,  0.35974778,\n",
       "        -0.78198793, -0.57839141, -0.083499  ,  0.02111216,  0.26393298,\n",
       "         0.10809635,  0.30565316, -0.13313536,  0.42120097,  0.04893422,\n",
       "         0.09205144,  0.12337184, -0.41318144, -0.13675317,  0.64025924,\n",
       "        -0.06132735,  0.21992348,  0.22218762,  0.2565352 ,  0.40784212,\n",
       "         0.52884825, -0.00163507, -0.78045807,  0.74971524,  0.55657544,\n",
       "         0.26932216,  1.05770696, -0.16365986,  0.31727076,  0.74948526,\n",
       "         0.47049393, -0.37781195,  0.24806701,  0.56314249, -0.17001023,\n",
       "         0.01802377,  0.30482565,  0.7235512 , -0.42633221, -0.69601248,\n",
       "         0.2010316 , -1.13864843,  0.25544607, -0.19293256, -0.24946609,\n",
       "         0.64763921, -0.46296773,  0.06613981, -0.09230551,  0.00933423,\n",
       "         0.26666644, -0.21691387,  0.05966763, -0.04075457,  0.837734  ,\n",
       "         0.43336453, -0.18198182,  0.1899544 , -0.53741736,  0.66234878,\n",
       "        -0.22807108, -0.10741103, -0.02146146]))"
      ]
     },
     "execution_count": 20,
     "metadata": {},
     "output_type": "execute_result"
    }
   ],
   "source": [
    "len(train_sentences_as_embed[0]), train_sentences_as_embed[0]"
   ]
  },
  {
   "cell_type": "markdown",
   "metadata": {
    "id": "0RnWOdDDe5nl"
   },
   "source": [
    "## Dataset"
   ]
  },
  {
   "cell_type": "code",
   "execution_count": 21,
   "metadata": {
    "id": "6C4yR3pDZcNc"
   },
   "outputs": [],
   "source": [
    "from torch.utils.data.dataset import Dataset\n",
    "\n",
    "class ImdbDataset(Dataset):\n",
    "    def __init__(self, sentences, labels):\n",
    "        self.sentences = sentences\n",
    "        self.labels = labels\n",
    "\n",
    "    def __getitem__(self, index):\n",
    "        return torch.tensor(self.sentences[index]), torch.tensor(self.labels[index])\n",
    "\n",
    "    def __len__(self):\n",
    "        return len(self.sentences)"
   ]
  },
  {
   "cell_type": "code",
   "execution_count": 22,
   "metadata": {
    "id": "BqPTDIHIaC1R"
   },
   "outputs": [],
   "source": [
    "train_dataset = ImdbDataset(train_sentences_as_embed, train_labels_as_index)\n",
    "valid_dataset = ImdbDataset(valid_sentences_as_embed, valid_labels_as_index)\n",
    "test_dataset = ImdbDataset(test_sentences_as_embed, test_labels_as_index)"
   ]
  },
  {
   "cell_type": "code",
   "execution_count": 36,
   "metadata": {
    "id": "2XHbZNe-qT0L"
   },
   "outputs": [
    {
     "name": "stdout",
     "output_type": "stream",
     "text": [
      "torch.Size([128])\n"
     ]
    },
    {
     "data": {
      "text/plain": [
       "(tensor([-0.6845,  0.7784,  0.2806, -0.3573, -0.3115,  0.0515,  0.3357, -0.4627,\n",
       "          0.5846,  1.0199, -1.1945, -0.3282,  0.7347, -0.2899, -0.4455,  0.3360,\n",
       "         -0.5652,  0.0912, -0.5892,  0.5516,  0.1969,  0.4302, -0.5667, -0.5146,\n",
       "         -1.2282,  0.5362, -0.9436,  0.3073, -0.0994, -0.0228, -0.9879, -0.3614,\n",
       "         -0.9116,  0.3390, -0.5648,  0.4299,  0.2673, -0.7002,  0.6875,  0.0198,\n",
       "         -0.9681, -0.2847, -0.7974,  0.0180,  0.5665, -0.0658, -0.7156, -0.3070,\n",
       "         -0.4703,  0.0113, -0.2503, -0.4868,  0.3076,  0.0940,  0.3161, -0.6482,\n",
       "         -0.0670,  0.5821, -0.2674,  0.2267, -0.1995,  0.5384,  0.5841,  0.3434,\n",
       "          0.3597, -0.7820, -0.5784, -0.0835,  0.0211,  0.2639,  0.1081,  0.3057,\n",
       "         -0.1331,  0.4212,  0.0489,  0.0921,  0.1234, -0.4132, -0.1368,  0.6403,\n",
       "         -0.0613,  0.2199,  0.2222,  0.2565,  0.4078,  0.5288, -0.0016, -0.7805,\n",
       "          0.7497,  0.5566,  0.2693,  1.0577, -0.1637,  0.3173,  0.7495,  0.4705,\n",
       "         -0.3778,  0.2481,  0.5631, -0.1700,  0.0180,  0.3048,  0.7236, -0.4263,\n",
       "         -0.6960,  0.2010, -1.1386,  0.2554, -0.1929, -0.2495,  0.6476, -0.4630,\n",
       "          0.0661, -0.0923,  0.0093,  0.2667, -0.2169,  0.0597, -0.0408,  0.8377,\n",
       "          0.4334, -0.1820,  0.1900, -0.5374,  0.6623, -0.2281, -0.1074, -0.0215],\n",
       "        dtype=torch.float64),\n",
       " tensor(0))"
      ]
     },
     "execution_count": 36,
     "metadata": {},
     "output_type": "execute_result"
    }
   ],
   "source": [
    "print(train_dataset[0][0].shape)\n",
    "train_dataset[0]"
   ]
  },
  {
   "cell_type": "markdown",
   "metadata": {
    "id": "mqv1rCoRgVrU"
   },
   "source": [
    "## DataLoader (for batching dataset)"
   ]
  },
  {
   "cell_type": "code",
   "execution_count": 24,
   "metadata": {
    "id": "SW3_5uPfgYB2"
   },
   "outputs": [],
   "source": [
    "from torch.utils.data import DataLoader\n",
    "from torch.nn.utils.rnn import pad_sequence\n",
    "\n",
    "def create_mini_batch(samples):\n",
    "    sentence_tensors = [s[0] for s in samples]\n",
    "    label_ids = torch.stack([s[1] for s in samples])\n",
    "\n",
    "    sentence_tensors = pad_sequence(sentence_tensors, batch_first=True)\n",
    "    return sentence_tensors, label_ids"
   ]
  },
  {
   "cell_type": "code",
   "execution_count": 25,
   "metadata": {
    "id": "1ZF17B9-nuPR"
   },
   "outputs": [],
   "source": [
    "BATCH_SIZE = 64\n",
    "\n",
    "train_loader = DataLoader(train_dataset, batch_size=BATCH_SIZE, collate_fn=create_mini_batch, shuffle=True)\n",
    "valid_loader = DataLoader(valid_dataset, batch_size=BATCH_SIZE, collate_fn=create_mini_batch, shuffle=True)\n",
    "test_loader = DataLoader(test_dataset, batch_size=BATCH_SIZE, collate_fn=create_mini_batch, shuffle=False)"
   ]
  },
  {
   "cell_type": "markdown",
   "metadata": {
    "id": "mY4GoZHABcaC"
   },
   "source": [
    "## The example of batch sentences"
   ]
  },
  {
   "cell_type": "code",
   "execution_count": 26,
   "metadata": {
    "id": "i5IPpkCcn-sz"
   },
   "outputs": [
    {
     "name": "stdout",
     "output_type": "stream",
     "text": [
      "(tensor([[-0.3424,  0.5820,  0.3943,  ..., -0.2183, -0.2894, -0.0114],\n",
      "        [-0.7232,  0.6992,  0.4726,  ..., -0.3447, -0.1077, -0.0511],\n",
      "        [-0.5182,  0.6638,  0.2313,  ..., -0.2719, -0.3856,  0.0085],\n",
      "        ...,\n",
      "        [-0.2728,  0.6989,  0.1571,  ..., -0.2463, -0.5152,  0.0655],\n",
      "        [-0.4538,  0.3757,  0.3930,  ..., -0.2866, -0.2185, -0.1298],\n",
      "        [-0.5303,  0.6227,  0.3133,  ..., -0.0802, -0.3729,  0.1307]],\n",
      "       dtype=torch.float64), tensor([1, 0, 1, 0, 1, 1, 0, 1, 0, 0, 0, 0, 1, 0, 0, 1, 1, 1, 0, 0, 1, 1, 1, 1,\n",
      "        0, 0, 1, 0, 0, 1, 0, 1, 0, 0, 1, 0, 0, 1, 1, 0, 1, 1, 1, 1, 1, 0, 0, 1,\n",
      "        0, 1, 0, 0, 0, 1, 1, 1, 0, 1, 1, 1, 0, 1, 1, 1]))\n"
     ]
    }
   ],
   "source": [
    "data = next(iter(train_loader))\n",
    "print(data)"
   ]
  },
  {
   "cell_type": "code",
   "execution_count": 27,
   "metadata": {
    "id": "LkhJFkA-uGUs"
   },
   "outputs": [
    {
     "data": {
      "text/plain": [
       "(torch.Size([64, 128]), torch.Size([64]))"
      ]
     },
     "execution_count": 27,
     "metadata": {},
     "output_type": "execute_result"
    }
   ],
   "source": [
    "data[0].shape, data[1].shape"
   ]
  },
  {
   "cell_type": "markdown",
   "metadata": {
    "id": "vQI_vVMGgiM_"
   },
   "source": [
    "## Build model <br>\n",
    "## Hint: fill in fc_units, out_units, out_in, out_out"
   ]
  },
  {
   "cell_type": "code",
   "execution_count": 28,
   "metadata": {},
   "outputs": [
    {
     "name": "stdout",
     "output_type": "stream",
     "text": [
      "Sat Aug  5 14:16:22 2023       \n",
      "+-----------------------------------------------------------------------------+\n",
      "| NVIDIA-SMI 470.103.01   Driver Version: 470.103.01   CUDA Version: 11.4     |\n",
      "|-------------------------------+----------------------+----------------------+\n",
      "| GPU  Name        Persistence-M| Bus-Id        Disp.A | Volatile Uncorr. ECC |\n",
      "| Fan  Temp  Perf  Pwr:Usage/Cap|         Memory-Usage | GPU-Util  Compute M. |\n",
      "|                               |                      |               MIG M. |\n",
      "|===============================+======================+======================|\n",
      "|   0  NVIDIA GeForce ...  Off  | 00000000:01:00.0 Off |                  N/A |\n",
      "|  0%   31C    P8     6W / 198W |      2MiB /  8119MiB |      0%      Default |\n",
      "|                               |                      |                  N/A |\n",
      "+-------------------------------+----------------------+----------------------+\n",
      "|   1  NVIDIA GeForce ...  Off  | 00000000:17:00.0 Off |                  N/A |\n",
      "|  0%   33C    P8     7W / 198W |      2MiB /  8119MiB |      0%      Default |\n",
      "|                               |                      |                  N/A |\n",
      "+-------------------------------+----------------------+----------------------+\n",
      "|   2  NVIDIA GeForce ...  Off  | 00000000:65:00.0 Off |                  N/A |\n",
      "|  0%   36C    P8     8W / 198W |     19MiB /  8117MiB |      0%      Default |\n",
      "|                               |                      |                  N/A |\n",
      "+-------------------------------+----------------------+----------------------+\n",
      "                                                                               \n",
      "+-----------------------------------------------------------------------------+\n",
      "| Processes:                                                                  |\n",
      "|  GPU   GI   CI        PID   Type   Process name                  GPU Memory |\n",
      "|        ID   ID                                                   Usage      |\n",
      "|=============================================================================|\n",
      "|    2   N/A  N/A      1492      G   /usr/lib/xorg/Xorg                 16MiB |\n",
      "+-----------------------------------------------------------------------------+\n"
     ]
    }
   ],
   "source": [
    "!nvidia-smi"
   ]
  },
  {
   "cell_type": "code",
   "execution_count": 29,
   "metadata": {
    "id": "k-Tuj2EqcY3J"
   },
   "outputs": [
    {
     "name": "stdout",
     "output_type": "stream",
     "text": [
      "cuda:0\n"
     ]
    }
   ],
   "source": [
    "device = torch.device(\"cuda:0\" if torch.cuda.is_available() else \"cpu\")\n",
    "print(device)"
   ]
  },
  {
   "cell_type": "code",
   "execution_count": 38,
   "metadata": {
    "id": "AanL0lDqhCIv"
   },
   "outputs": [],
   "source": [
    "import torch.nn as nn\n",
    "\n",
    "class IMDBModel(nn.Module):\n",
    "\n",
    "    def __init__(self):\n",
    "        super().__init__()\n",
    "\n",
    "        self.fc = nn.Linear(128, 128) # [word_emb_dim, out_features]\n",
    "        self.relu = nn.ReLU()\n",
    "        self.out = nn.Linear(128, 1) # [out_features, 1]\n",
    "        self.out_act = nn.Sigmoid()\n",
    "\n",
    "    def forward(self, x):\n",
    "        x = x.float()\n",
    "        x = self.fc(x) # [word_emb_dim, out_features]\n",
    "        x = self.relu(x)\n",
    "\n",
    "        x = self.out(x) # [out_features, 1]\n",
    "        y = self.out_act(x) # [out_features, 1]\n",
    "        return y"
   ]
  },
  {
   "cell_type": "markdown",
   "metadata": {
    "id": "rKtXzPxC-x9K"
   },
   "source": [
    "## Example model output"
   ]
  },
  {
   "cell_type": "code",
   "execution_count": 39,
   "metadata": {
    "id": "Amkt723juny1"
   },
   "outputs": [
    {
     "name": "stdout",
     "output_type": "stream",
     "text": [
      "tensor([[0.5337],\n",
      "        [0.5569],\n",
      "        [0.5352],\n",
      "        [0.5196],\n",
      "        [0.5160],\n",
      "        [0.5272],\n",
      "        [0.5221],\n",
      "        [0.5295],\n",
      "        [0.5328],\n",
      "        [0.5220],\n",
      "        [0.5342],\n",
      "        [0.5467],\n",
      "        [0.5438],\n",
      "        [0.5226],\n",
      "        [0.5184],\n",
      "        [0.5359],\n",
      "        [0.5458],\n",
      "        [0.5285],\n",
      "        [0.5538],\n",
      "        [0.5405],\n",
      "        [0.5223],\n",
      "        [0.5254],\n",
      "        [0.5409],\n",
      "        [0.5387],\n",
      "        [0.5195],\n",
      "        [0.5565],\n",
      "        [0.5489],\n",
      "        [0.5440],\n",
      "        [0.5268],\n",
      "        [0.5477],\n",
      "        [0.5215],\n",
      "        [0.5411],\n",
      "        [0.5308],\n",
      "        [0.5334],\n",
      "        [0.5354],\n",
      "        [0.5167],\n",
      "        [0.5098],\n",
      "        [0.5483],\n",
      "        [0.5383],\n",
      "        [0.5520],\n",
      "        [0.5392],\n",
      "        [0.5327],\n",
      "        [0.5394],\n",
      "        [0.5450],\n",
      "        [0.5147],\n",
      "        [0.5381],\n",
      "        [0.5548],\n",
      "        [0.5345],\n",
      "        [0.5452],\n",
      "        [0.5333],\n",
      "        [0.5235],\n",
      "        [0.5189],\n",
      "        [0.5318],\n",
      "        [0.5200],\n",
      "        [0.5197],\n",
      "        [0.5268],\n",
      "        [0.5533],\n",
      "        [0.5604],\n",
      "        [0.5489],\n",
      "        [0.5570],\n",
      "        [0.5356],\n",
      "        [0.5187],\n",
      "        [0.5395],\n",
      "        [0.5333]], grad_fn=<SigmoidBackward0>)\n",
      "tensor([0.5337, 0.5569, 0.5352, 0.5196, 0.5160, 0.5272, 0.5221, 0.5295, 0.5328,\n",
      "        0.5220, 0.5342, 0.5467, 0.5438, 0.5226, 0.5184, 0.5359, 0.5458, 0.5285,\n",
      "        0.5538, 0.5405, 0.5223, 0.5254, 0.5409, 0.5387, 0.5195, 0.5565, 0.5489,\n",
      "        0.5440, 0.5268, 0.5477, 0.5215, 0.5411, 0.5308, 0.5334, 0.5354, 0.5167,\n",
      "        0.5098, 0.5483, 0.5383, 0.5520, 0.5392, 0.5327, 0.5394, 0.5450, 0.5147,\n",
      "        0.5381, 0.5548, 0.5345, 0.5452, 0.5333, 0.5235, 0.5189, 0.5318, 0.5200,\n",
      "        0.5197, 0.5268, 0.5533, 0.5604, 0.5489, 0.5570, 0.5356, 0.5187, 0.5395,\n",
      "        0.5333], grad_fn=<StackBackward0>)\n"
     ]
    }
   ],
   "source": [
    "model = IMDBModel()\n",
    "output = model(data[0])\n",
    "print(output)\n",
    "print(torch.stack([p[0] for p in output])) # stack predictions"
   ]
  },
  {
   "cell_type": "markdown",
   "metadata": {
    "id": "pO4AN_ugghYl"
   },
   "source": [
    "## Training & Evaliation"
   ]
  },
  {
   "cell_type": "code",
   "execution_count": 40,
   "metadata": {
    "id": "LL_1Pp8647Cb"
   },
   "outputs": [],
   "source": [
    "def accuracy(predictions, label_ids):\n",
    "    prediction_ids = torch.round(predictions)\n",
    "    correct = (prediction_ids == label_ids).sum().item()\n",
    "    total = label_ids.size(0)\n",
    "    acc = correct / total\n",
    "    return acc"
   ]
  },
  {
   "cell_type": "code",
   "execution_count": 41,
   "metadata": {
    "id": "J378ca6Zv8Kp"
   },
   "outputs": [],
   "source": [
    "def train(train_loader):\n",
    "    model.train()\n",
    "    running_loss = 0\n",
    "    running_acc = 0\n",
    "\n",
    "    for batch, data in enumerate(train_loader):\n",
    "        sentence_tensors, label_ids = [t.to(device) for t in data]\n",
    "        predictions = model(sentence_tensors)\n",
    "        predictions = torch.stack([p[0] for p in predictions])\n",
    "\n",
    "        # gradient\n",
    "        optimizer.zero_grad()\n",
    "        loss = loss_criterion(predictions.float(), label_ids.float())\n",
    "        loss.backward()\n",
    "        optimizer.step()\n",
    "\n",
    "        # metric\n",
    "        acc = accuracy(predictions, label_ids)\n",
    "\n",
    "\n",
    "        running_loss += loss.item()\n",
    "        running_acc += acc\n",
    "        if batch % 50 == 0 and batch != 0:\n",
    "            print('Batch {} Loss {:.4f} Acc {:.4f}'.format(batch, running_loss / batch, running_acc / batch))\n",
    "\n",
    "    print('Training done! Loss {:.4f} Acc {:.4f}\\n'.format(running_loss / len(train_loader), running_acc / len(train_loader)))\n",
    "    return running_loss / len(train_loader), running_acc / len(train_loader)\n"
   ]
  },
  {
   "cell_type": "code",
   "execution_count": 42,
   "metadata": {
    "id": "Ox_2S6FV7D41"
   },
   "outputs": [],
   "source": [
    "def evaluate(valid_loader):\n",
    "    model.eval()\n",
    "    running_loss = 0\n",
    "    running_acc = 0\n",
    "\n",
    "    with torch.no_grad():\n",
    "        for batch, data in enumerate(valid_loader):\n",
    "            sentence_tensors, label_ids = [t.to(device) for t in data]\n",
    "            predictions = model(sentence_tensors)\n",
    "            predictions = torch.stack([p[0] for p in predictions])\n",
    "\n",
    "            # gradient\n",
    "            loss = loss_criterion(predictions.float(), label_ids.float())\n",
    "\n",
    "            # metric\n",
    "            acc = accuracy(predictions, label_ids)\n",
    "\n",
    "\n",
    "            running_loss += loss.item()\n",
    "            running_acc += acc\n",
    "\n",
    "        print('Evaluate done! Loss {:.4f} Acc {:.4f}\\n'.format(running_loss / len(valid_loader), running_acc / len(valid_loader)))\n",
    "    return running_loss / len(valid_loader), running_acc / len(valid_loader)"
   ]
  },
  {
   "cell_type": "code",
   "execution_count": 43,
   "metadata": {
    "id": "BaT6YqDPz61U"
   },
   "outputs": [
    {
     "name": "stdout",
     "output_type": "stream",
     "text": [
      "Epoch 1 start!\n",
      "Batch 50 Loss 0.6672 Acc 0.6500\n",
      "Batch 100 Loss 0.6381 Acc 0.6648\n",
      "Batch 150 Loss 0.6124 Acc 0.6881\n",
      "Batch 200 Loss 0.5883 Acc 0.7050\n",
      "Training done! Loss 0.5669 Acc 0.7161\n",
      "\n",
      "Evaluate done! Loss 0.4907 Acc 0.7696\n",
      "\n",
      "Time taken for Epoch 1: 6.69126033782959 secs\n",
      "\n",
      "====================================================================================================\n",
      "Epoch 2 start!\n",
      "Batch 50 Loss 0.4914 Acc 0.7963\n",
      "Batch 100 Loss 0.4817 Acc 0.7919\n",
      "Batch 150 Loss 0.4781 Acc 0.7900\n",
      "Batch 200 Loss 0.4729 Acc 0.7896\n",
      "Training done! Loss 0.4695 Acc 0.7852\n",
      "\n",
      "Evaluate done! Loss 0.4629 Acc 0.7795\n",
      "\n",
      "Time taken for Epoch 2: 1.1266999244689941 secs\n",
      "\n",
      "====================================================================================================\n",
      "Epoch 3 start!\n",
      "Batch 50 Loss 0.4678 Acc 0.8006\n",
      "Batch 100 Loss 0.4628 Acc 0.7939\n",
      "Batch 150 Loss 0.4625 Acc 0.7939\n",
      "Batch 200 Loss 0.4562 Acc 0.7971\n",
      "Training done! Loss 0.4509 Acc 0.7934\n",
      "\n",
      "Evaluate done! Loss 0.4804 Acc 0.7631\n",
      "\n",
      "Time taken for Epoch 3: 2.367347002029419 secs\n",
      "\n",
      "====================================================================================================\n",
      "Epoch 4 start!\n",
      "Batch 50 Loss 0.4474 Acc 0.8153\n",
      "Batch 100 Loss 0.4447 Acc 0.8048\n",
      "Batch 150 Loss 0.4440 Acc 0.8020\n",
      "Batch 200 Loss 0.4390 Acc 0.8037\n",
      "Training done! Loss 0.4394 Acc 0.7978\n",
      "\n",
      "Evaluate done! Loss 0.4356 Acc 0.8016\n",
      "\n",
      "Time taken for Epoch 4: 2.3811209201812744 secs\n",
      "\n",
      "====================================================================================================\n",
      "Epoch 5 start!\n",
      "Batch 50 Loss 0.4383 Acc 0.8178\n",
      "Batch 100 Loss 0.4429 Acc 0.8066\n",
      "Batch 150 Loss 0.4375 Acc 0.8066\n",
      "Batch 200 Loss 0.4345 Acc 0.8068\n",
      "Training done! Loss 0.4311 Acc 0.8031\n",
      "\n",
      "Evaluate done! Loss 0.4399 Acc 0.8026\n",
      "\n",
      "Time taken for Epoch 5: 2.388781785964966 secs\n",
      "\n",
      "====================================================================================================\n",
      "Epoch 6 start!\n",
      "Batch 50 Loss 0.4363 Acc 0.8181\n",
      "Batch 100 Loss 0.4401 Acc 0.8119\n",
      "Batch 150 Loss 0.4301 Acc 0.8137\n",
      "Batch 200 Loss 0.4311 Acc 0.8095\n",
      "Training done! Loss 0.4292 Acc 0.8056\n",
      "\n",
      "Evaluate done! Loss 0.4349 Acc 0.8063\n",
      "\n",
      "Time taken for Epoch 6: 2.385662317276001 secs\n",
      "\n",
      "====================================================================================================\n",
      "Epoch 7 start!\n",
      "Batch 50 Loss 0.4238 Acc 0.8241\n",
      "Batch 100 Loss 0.4228 Acc 0.8156\n",
      "Batch 150 Loss 0.4221 Acc 0.8125\n",
      "Batch 200 Loss 0.4280 Acc 0.8076\n",
      "Training done! Loss 0.4266 Acc 0.8041\n",
      "\n",
      "Evaluate done! Loss 0.4252 Acc 0.8078\n",
      "\n",
      "Time taken for Epoch 7: 2.3781323432922363 secs\n",
      "\n",
      "====================================================================================================\n",
      "Epoch 8 start!\n",
      "Batch 50 Loss 0.4313 Acc 0.8194\n",
      "Batch 100 Loss 0.4339 Acc 0.8069\n",
      "Batch 150 Loss 0.4349 Acc 0.8033\n",
      "Batch 200 Loss 0.4296 Acc 0.8067\n",
      "Training done! Loss 0.4237 Acc 0.8066\n",
      "\n",
      "Evaluate done! Loss 0.4254 Acc 0.8065\n",
      "\n",
      "Time taken for Epoch 8: 2.3734734058380127 secs\n",
      "\n",
      "====================================================================================================\n",
      "Epoch 9 start!\n",
      "Batch 50 Loss 0.4369 Acc 0.8200\n",
      "Batch 100 Loss 0.4217 Acc 0.8198\n",
      "Batch 150 Loss 0.4215 Acc 0.8164\n",
      "Batch 200 Loss 0.4216 Acc 0.8140\n",
      "Training done! Loss 0.4187 Acc 0.8096\n",
      "\n",
      "Evaluate done! Loss 0.4386 Acc 0.7894\n",
      "\n",
      "Time taken for Epoch 9: 2.392428398132324 secs\n",
      "\n",
      "====================================================================================================\n",
      "Epoch 10 start!\n",
      "Batch 50 Loss 0.4362 Acc 0.8175\n",
      "Batch 100 Loss 0.4294 Acc 0.8122\n",
      "Batch 150 Loss 0.4260 Acc 0.8117\n",
      "Batch 200 Loss 0.4205 Acc 0.8143\n",
      "Training done! Loss 0.4168 Acc 0.8108\n",
      "\n",
      "Evaluate done! Loss 0.4614 Acc 0.7758\n",
      "\n",
      "Time taken for Epoch 10: 2.3858301639556885 secs\n",
      "\n",
      "====================================================================================================\n",
      "Epoch 11 start!\n",
      "Batch 50 Loss 0.4447 Acc 0.8156\n",
      "Batch 100 Loss 0.4363 Acc 0.8136\n",
      "Batch 150 Loss 0.4256 Acc 0.8174\n",
      "Batch 200 Loss 0.4184 Acc 0.8182\n",
      "Training done! Loss 0.4151 Acc 0.8130\n",
      "\n",
      "Evaluate done! Loss 0.4227 Acc 0.8058\n",
      "\n",
      "Time taken for Epoch 11: 2.081381320953369 secs\n",
      "\n",
      "====================================================================================================\n",
      "Epoch 12 start!\n",
      "Batch 50 Loss 0.4117 Acc 0.8347\n",
      "Batch 100 Loss 0.4115 Acc 0.8183\n",
      "Batch 150 Loss 0.4131 Acc 0.8167\n",
      "Batch 200 Loss 0.4125 Acc 0.8162\n",
      "Training done! Loss 0.4142 Acc 0.8097\n",
      "\n",
      "Evaluate done! Loss 0.4203 Acc 0.8056\n",
      "\n",
      "Time taken for Epoch 12: 0.8131740093231201 secs\n",
      "\n",
      "====================================================================================================\n",
      "Epoch 13 start!\n",
      "Batch 50 Loss 0.4431 Acc 0.8078\n",
      "Batch 100 Loss 0.4316 Acc 0.8084\n",
      "Batch 150 Loss 0.4292 Acc 0.8072\n",
      "Batch 200 Loss 0.4221 Acc 0.8113\n",
      "Training done! Loss 0.4167 Acc 0.8094\n",
      "\n",
      "Evaluate done! Loss 0.4182 Acc 0.8125\n",
      "\n",
      "Time taken for Epoch 13: 0.8114850521087646 secs\n",
      "\n",
      "====================================================================================================\n",
      "Epoch 14 start!\n",
      "Batch 50 Loss 0.4056 Acc 0.8363\n",
      "Batch 100 Loss 0.4116 Acc 0.8187\n",
      "Batch 150 Loss 0.4141 Acc 0.8176\n",
      "Batch 200 Loss 0.4119 Acc 0.8178\n",
      "Training done! Loss 0.4080 Acc 0.8151\n",
      "\n",
      "Evaluate done! Loss 0.4217 Acc 0.8061\n",
      "\n",
      "Time taken for Epoch 14: 0.8143153190612793 secs\n",
      "\n",
      "====================================================================================================\n",
      "Epoch 15 start!\n",
      "Batch 50 Loss 0.4247 Acc 0.8247\n",
      "Batch 100 Loss 0.4162 Acc 0.8198\n",
      "Batch 150 Loss 0.4141 Acc 0.8169\n",
      "Batch 200 Loss 0.4126 Acc 0.8162\n",
      "Training done! Loss 0.4091 Acc 0.8134\n",
      "\n",
      "Evaluate done! Loss 0.4245 Acc 0.8023\n",
      "\n",
      "Time taken for Epoch 15: 0.815514087677002 secs\n",
      "\n",
      "====================================================================================================\n",
      "Epoch 16 start!\n",
      "Batch 50 Loss 0.4030 Acc 0.8363\n",
      "Batch 100 Loss 0.4044 Acc 0.8278\n",
      "Batch 150 Loss 0.4120 Acc 0.8218\n",
      "Batch 200 Loss 0.4099 Acc 0.8223\n",
      "Training done! Loss 0.4093 Acc 0.8165\n",
      "\n",
      "Evaluate done! Loss 0.4242 Acc 0.8090\n",
      "\n",
      "Time taken for Epoch 16: 0.8137829303741455 secs\n",
      "\n",
      "====================================================================================================\n",
      "Epoch 17 start!\n",
      "Batch 50 Loss 0.4043 Acc 0.8434\n",
      "Batch 100 Loss 0.4075 Acc 0.8311\n",
      "Batch 150 Loss 0.4076 Acc 0.8260\n",
      "Batch 200 Loss 0.4037 Acc 0.8251\n",
      "Training done! Loss 0.4055 Acc 0.8166\n",
      "\n",
      "Evaluate done! Loss 0.4176 Acc 0.8095\n",
      "\n",
      "Time taken for Epoch 17: 0.8119363784790039 secs\n",
      "\n",
      "====================================================================================================\n",
      "Epoch 18 start!\n",
      "Batch 50 Loss 0.4129 Acc 0.8341\n",
      "Batch 100 Loss 0.4084 Acc 0.8245\n",
      "Batch 150 Loss 0.4076 Acc 0.8227\n",
      "Batch 200 Loss 0.4091 Acc 0.8194\n",
      "Training done! Loss 0.4075 Acc 0.8153\n",
      "\n",
      "Evaluate done! Loss 0.4324 Acc 0.7964\n",
      "\n",
      "Time taken for Epoch 18: 0.8121271133422852 secs\n",
      "\n",
      "====================================================================================================\n",
      "Epoch 19 start!\n",
      "Batch 50 Loss 0.4036 Acc 0.8319\n",
      "Batch 100 Loss 0.4011 Acc 0.8286\n",
      "Batch 150 Loss 0.4080 Acc 0.8231\n",
      "Batch 200 Loss 0.4066 Acc 0.8228\n",
      "Training done! Loss 0.4030 Acc 0.8189\n",
      "\n",
      "Evaluate done! Loss 0.4421 Acc 0.7932\n",
      "\n",
      "Time taken for Epoch 19: 0.8153948783874512 secs\n",
      "\n",
      "====================================================================================================\n",
      "Epoch 20 start!\n",
      "Batch 50 Loss 0.4114 Acc 0.8409\n",
      "Batch 100 Loss 0.4039 Acc 0.8320\n",
      "Batch 150 Loss 0.4016 Acc 0.8297\n",
      "Batch 200 Loss 0.4017 Acc 0.8259\n",
      "Training done! Loss 0.4023 Acc 0.8184\n",
      "\n",
      "Evaluate done! Loss 0.4302 Acc 0.7979\n",
      "\n",
      "Time taken for Epoch 20: 0.8156931400299072 secs\n",
      "\n",
      "====================================================================================================\n",
      "Epoch 21 start!\n",
      "Batch 50 Loss 0.4190 Acc 0.8313\n",
      "Batch 100 Loss 0.4122 Acc 0.8230\n",
      "Batch 150 Loss 0.4108 Acc 0.8206\n",
      "Batch 200 Loss 0.4087 Acc 0.8197\n",
      "Training done! Loss 0.4020 Acc 0.8189\n",
      "\n",
      "Evaluate done! Loss 0.4101 Acc 0.8160\n",
      "\n",
      "Time taken for Epoch 21: 0.814814567565918 secs\n",
      "\n",
      "====================================================================================================\n",
      "Epoch 22 start!\n",
      "Batch 50 Loss 0.4118 Acc 0.8350\n",
      "Batch 100 Loss 0.4066 Acc 0.8270\n",
      "Batch 150 Loss 0.4073 Acc 0.8215\n",
      "Batch 200 Loss 0.4032 Acc 0.8224\n",
      "Training done! Loss 0.3999 Acc 0.8193\n",
      "\n",
      "Evaluate done! Loss 0.4136 Acc 0.8145\n",
      "\n",
      "Time taken for Epoch 22: 0.8263490200042725 secs\n",
      "\n",
      "====================================================================================================\n",
      "Epoch 23 start!\n",
      "Batch 50 Loss 0.3833 Acc 0.8522\n",
      "Batch 100 Loss 0.3915 Acc 0.8358\n",
      "Batch 150 Loss 0.3947 Acc 0.8324\n",
      "Batch 200 Loss 0.3946 Acc 0.8291\n",
      "Training done! Loss 0.3994 Acc 0.8204\n",
      "\n",
      "Evaluate done! Loss 0.4215 Acc 0.8013\n",
      "\n",
      "Time taken for Epoch 23: 2.363266706466675 secs\n",
      "\n",
      "====================================================================================================\n",
      "Epoch 24 start!\n",
      "Batch 50 Loss 0.4140 Acc 0.8384\n",
      "Batch 100 Loss 0.4033 Acc 0.8295\n",
      "Batch 150 Loss 0.4041 Acc 0.8249\n",
      "Batch 200 Loss 0.4052 Acc 0.8223\n",
      "Training done! Loss 0.4039 Acc 0.8173\n",
      "\n",
      "Evaluate done! Loss 0.4138 Acc 0.8142\n",
      "\n",
      "Time taken for Epoch 24: 2.398514747619629 secs\n",
      "\n",
      "====================================================================================================\n",
      "Epoch 25 start!\n",
      "Batch 50 Loss 0.4169 Acc 0.8291\n",
      "Batch 100 Loss 0.4088 Acc 0.8277\n",
      "Batch 150 Loss 0.4038 Acc 0.8232\n",
      "Batch 200 Loss 0.3969 Acc 0.8269\n",
      "Training done! Loss 0.3967 Acc 0.8217\n",
      "\n",
      "Evaluate done! Loss 0.4063 Acc 0.8202\n",
      "\n",
      "Time taken for Epoch 25: 2.362751007080078 secs\n",
      "\n",
      "====================================================================================================\n",
      "Epoch 26 start!\n",
      "Batch 50 Loss 0.4006 Acc 0.8453\n",
      "Batch 100 Loss 0.4025 Acc 0.8305\n",
      "Batch 150 Loss 0.4000 Acc 0.8293\n",
      "Batch 200 Loss 0.3965 Acc 0.8277\n",
      "Training done! Loss 0.3989 Acc 0.8197\n",
      "\n",
      "Evaluate done! Loss 0.4191 Acc 0.8053\n",
      "\n",
      "Time taken for Epoch 26: 2.3592662811279297 secs\n",
      "\n",
      "====================================================================================================\n",
      "Epoch 27 start!\n",
      "Batch 50 Loss 0.4135 Acc 0.8278\n",
      "Batch 100 Loss 0.3956 Acc 0.8295\n",
      "Batch 150 Loss 0.3939 Acc 0.8290\n",
      "Batch 200 Loss 0.3958 Acc 0.8273\n",
      "Training done! Loss 0.3967 Acc 0.8225\n",
      "\n",
      "Evaluate done! Loss 0.4224 Acc 0.8043\n",
      "\n",
      "Time taken for Epoch 27: 2.3863165378570557 secs\n",
      "\n",
      "====================================================================================================\n",
      "Epoch 28 start!\n",
      "Batch 50 Loss 0.4132 Acc 0.8337\n",
      "Batch 100 Loss 0.4079 Acc 0.8239\n",
      "Batch 150 Loss 0.3997 Acc 0.8266\n",
      "Batch 200 Loss 0.3993 Acc 0.8238\n",
      "Training done! Loss 0.3962 Acc 0.8205\n",
      "\n",
      "Evaluate done! Loss 0.4130 Acc 0.8135\n",
      "\n",
      "Time taken for Epoch 28: 2.3738279342651367 secs\n",
      "\n",
      "====================================================================================================\n",
      "Epoch 29 start!\n",
      "Batch 50 Loss 0.3965 Acc 0.8413\n",
      "Batch 100 Loss 0.3951 Acc 0.8295\n",
      "Batch 150 Loss 0.4012 Acc 0.8243\n",
      "Batch 200 Loss 0.3989 Acc 0.8230\n",
      "Training done! Loss 0.3957 Acc 0.8212\n",
      "\n",
      "Evaluate done! Loss 0.4194 Acc 0.8023\n",
      "\n",
      "Time taken for Epoch 29: 2.104217767715454 secs\n",
      "\n",
      "====================================================================================================\n",
      "Epoch 30 start!\n",
      "Batch 50 Loss 0.3953 Acc 0.8413\n",
      "Batch 100 Loss 0.3997 Acc 0.8292\n",
      "Batch 150 Loss 0.3950 Acc 0.8284\n",
      "Batch 200 Loss 0.3975 Acc 0.8246\n",
      "Training done! Loss 0.3941 Acc 0.8223\n",
      "\n",
      "Evaluate done! Loss 0.4329 Acc 0.8031\n",
      "\n",
      "Time taken for Epoch 30: 2.173184633255005 secs\n",
      "\n",
      "====================================================================================================\n",
      "Epoch 31 start!\n",
      "Batch 50 Loss 0.3965 Acc 0.8406\n",
      "Batch 100 Loss 0.3928 Acc 0.8347\n",
      "Batch 150 Loss 0.3912 Acc 0.8327\n",
      "Batch 200 Loss 0.3922 Acc 0.8301\n",
      "Training done! Loss 0.3930 Acc 0.8256\n",
      "\n",
      "Evaluate done! Loss 0.4153 Acc 0.8103\n",
      "\n",
      "Time taken for Epoch 31: 0.8104126453399658 secs\n",
      "\n",
      "====================================================================================================\n",
      "Epoch 32 start!\n",
      "Batch 50 Loss 0.3970 Acc 0.8394\n",
      "Batch 100 Loss 0.4016 Acc 0.8258\n",
      "Batch 150 Loss 0.3952 Acc 0.8285\n",
      "Batch 200 Loss 0.3978 Acc 0.8259\n",
      "Training done! Loss 0.3944 Acc 0.8229\n",
      "\n",
      "Evaluate done! Loss 0.4324 Acc 0.7999\n",
      "\n",
      "Time taken for Epoch 32: 0.8143017292022705 secs\n",
      "\n",
      "====================================================================================================\n",
      "Epoch 33 start!\n",
      "Batch 50 Loss 0.3939 Acc 0.8456\n",
      "Batch 100 Loss 0.3919 Acc 0.8375\n",
      "Batch 150 Loss 0.3874 Acc 0.8354\n",
      "Batch 200 Loss 0.3920 Acc 0.8304\n",
      "Training done! Loss 0.3921 Acc 0.8242\n",
      "\n",
      "Evaluate done! Loss 0.4081 Acc 0.8167\n",
      "\n",
      "Time taken for Epoch 33: 0.810142993927002 secs\n",
      "\n",
      "====================================================================================================\n",
      "Epoch 34 start!\n",
      "Batch 50 Loss 0.3967 Acc 0.8419\n",
      "Batch 100 Loss 0.3983 Acc 0.8283\n",
      "Batch 150 Loss 0.3996 Acc 0.8242\n",
      "Batch 200 Loss 0.3974 Acc 0.8234\n",
      "Training done! Loss 0.3951 Acc 0.8194\n",
      "\n",
      "Evaluate done! Loss 0.4115 Acc 0.8177\n",
      "\n",
      "Time taken for Epoch 34: 0.8094656467437744 secs\n",
      "\n",
      "====================================================================================================\n",
      "Epoch 35 start!\n",
      "Batch 50 Loss 0.3946 Acc 0.8413\n",
      "Batch 100 Loss 0.3990 Acc 0.8292\n",
      "Batch 150 Loss 0.3979 Acc 0.8241\n",
      "Batch 200 Loss 0.3964 Acc 0.8227\n",
      "Training done! Loss 0.3940 Acc 0.8198\n",
      "\n",
      "Evaluate done! Loss 0.4188 Acc 0.8098\n",
      "\n",
      "Time taken for Epoch 35: 0.8096590042114258 secs\n",
      "\n",
      "====================================================================================================\n",
      "Epoch 36 start!\n",
      "Batch 50 Loss 0.4023 Acc 0.8369\n",
      "Batch 100 Loss 0.3896 Acc 0.8370\n",
      "Batch 150 Loss 0.3832 Acc 0.8382\n",
      "Batch 200 Loss 0.3834 Acc 0.8363\n",
      "Training done! Loss 0.3885 Acc 0.8275\n",
      "\n",
      "Evaluate done! Loss 0.4158 Acc 0.8068\n",
      "\n",
      "Time taken for Epoch 36: 0.8072285652160645 secs\n",
      "\n",
      "====================================================================================================\n",
      "Epoch 37 start!\n",
      "Batch 50 Loss 0.3875 Acc 0.8531\n",
      "Batch 100 Loss 0.3919 Acc 0.8337\n",
      "Batch 150 Loss 0.3913 Acc 0.8326\n",
      "Batch 200 Loss 0.3909 Acc 0.8295\n",
      "Training done! Loss 0.3886 Acc 0.8257\n",
      "\n",
      "Evaluate done! Loss 0.4358 Acc 0.8016\n",
      "\n",
      "Time taken for Epoch 37: 0.8105299472808838 secs\n",
      "\n",
      "====================================================================================================\n",
      "Epoch 38 start!\n",
      "Batch 50 Loss 0.3886 Acc 0.8516\n",
      "Batch 100 Loss 0.3887 Acc 0.8394\n",
      "Batch 150 Loss 0.3931 Acc 0.8320\n",
      "Batch 200 Loss 0.3927 Acc 0.8289\n",
      "Training done! Loss 0.3903 Acc 0.8245\n",
      "\n",
      "Evaluate done! Loss 0.4134 Acc 0.8118\n",
      "\n",
      "Time taken for Epoch 38: 0.8105812072753906 secs\n",
      "\n",
      "====================================================================================================\n",
      "Epoch 39 start!\n",
      "Batch 50 Loss 0.3945 Acc 0.8419\n",
      "Batch 100 Loss 0.3928 Acc 0.8344\n",
      "Batch 150 Loss 0.3923 Acc 0.8302\n",
      "Batch 200 Loss 0.3906 Acc 0.8312\n",
      "Training done! Loss 0.3874 Acc 0.8276\n",
      "\n",
      "Evaluate done! Loss 0.4087 Acc 0.8162\n",
      "\n",
      "Time taken for Epoch 39: 0.8104813098907471 secs\n",
      "\n",
      "====================================================================================================\n",
      "Epoch 40 start!\n",
      "Batch 50 Loss 0.3836 Acc 0.8472\n",
      "Batch 100 Loss 0.3826 Acc 0.8392\n",
      "Batch 150 Loss 0.3844 Acc 0.8357\n",
      "Batch 200 Loss 0.3872 Acc 0.8331\n",
      "Training done! Loss 0.3848 Acc 0.8291\n",
      "\n",
      "Evaluate done! Loss 0.4092 Acc 0.8150\n",
      "\n",
      "Time taken for Epoch 40: 0.8098695278167725 secs\n",
      "\n",
      "====================================================================================================\n",
      "Epoch 41 start!\n",
      "Batch 50 Loss 0.3861 Acc 0.8447\n",
      "Batch 100 Loss 0.3918 Acc 0.8336\n",
      "Batch 150 Loss 0.3918 Acc 0.8311\n",
      "Batch 200 Loss 0.3930 Acc 0.8286\n",
      "Training done! Loss 0.3857 Acc 0.8266\n",
      "\n",
      "Evaluate done! Loss 0.4122 Acc 0.8113\n",
      "\n",
      "Time taken for Epoch 41: 0.8075911998748779 secs\n",
      "\n",
      "====================================================================================================\n",
      "Epoch 42 start!\n",
      "Batch 50 Loss 0.3882 Acc 0.8391\n",
      "Batch 100 Loss 0.3917 Acc 0.8300\n",
      "Batch 150 Loss 0.3788 Acc 0.8352\n",
      "Batch 200 Loss 0.3836 Acc 0.8314\n",
      "Training done! Loss 0.3837 Acc 0.8271\n",
      "\n",
      "Evaluate done! Loss 0.4230 Acc 0.8028\n",
      "\n",
      "Time taken for Epoch 42: 0.8110041618347168 secs\n",
      "\n",
      "====================================================================================================\n",
      "Epoch 43 start!\n",
      "Batch 50 Loss 0.3888 Acc 0.8500\n",
      "Batch 100 Loss 0.3953 Acc 0.8327\n",
      "Batch 150 Loss 0.3878 Acc 0.8341\n",
      "Batch 200 Loss 0.3883 Acc 0.8292\n",
      "Training done! Loss 0.3865 Acc 0.8259\n",
      "\n",
      "Evaluate done! Loss 0.4136 Acc 0.8110\n",
      "\n",
      "Time taken for Epoch 43: 0.8085007667541504 secs\n",
      "\n",
      "====================================================================================================\n",
      "Epoch 44 start!\n",
      "Batch 50 Loss 0.3916 Acc 0.8491\n",
      "Batch 100 Loss 0.3735 Acc 0.8475\n",
      "Batch 150 Loss 0.3746 Acc 0.8429\n",
      "Batch 200 Loss 0.3822 Acc 0.8359\n",
      "Training done! Loss 0.3816 Acc 0.8298\n",
      "\n",
      "Evaluate done! Loss 0.4130 Acc 0.8113\n",
      "\n",
      "Time taken for Epoch 44: 0.8105514049530029 secs\n",
      "\n",
      "====================================================================================================\n",
      "Epoch 45 start!\n",
      "Batch 50 Loss 0.3745 Acc 0.8541\n",
      "Batch 100 Loss 0.3746 Acc 0.8427\n",
      "Batch 150 Loss 0.3804 Acc 0.8378\n",
      "Batch 200 Loss 0.3817 Acc 0.8355\n",
      "Training done! Loss 0.3831 Acc 0.8293\n",
      "\n",
      "Evaluate done! Loss 0.4251 Acc 0.8001\n",
      "\n",
      "Time taken for Epoch 45: 0.8110165596008301 secs\n",
      "\n",
      "====================================================================================================\n",
      "Epoch 46 start!\n",
      "Batch 50 Loss 0.3807 Acc 0.8497\n",
      "Batch 100 Loss 0.3735 Acc 0.8425\n",
      "Batch 150 Loss 0.3808 Acc 0.8342\n",
      "Batch 200 Loss 0.3832 Acc 0.8321\n",
      "Training done! Loss 0.3813 Acc 0.8290\n",
      "\n",
      "Evaluate done! Loss 0.4036 Acc 0.8194\n",
      "\n",
      "Time taken for Epoch 46: 1.9303839206695557 secs\n",
      "\n",
      "====================================================================================================\n",
      "Epoch 47 start!\n",
      "Batch 50 Loss 0.3835 Acc 0.8491\n",
      "Batch 100 Loss 0.3861 Acc 0.8334\n",
      "Batch 150 Loss 0.3820 Acc 0.8309\n",
      "Batch 200 Loss 0.3810 Acc 0.8336\n",
      "Training done! Loss 0.3802 Acc 0.8288\n",
      "\n",
      "Evaluate done! Loss 0.4074 Acc 0.8175\n",
      "\n",
      "Time taken for Epoch 47: 2.3852486610412598 secs\n",
      "\n",
      "====================================================================================================\n",
      "Epoch 48 start!\n",
      "Batch 50 Loss 0.3931 Acc 0.8434\n",
      "Batch 100 Loss 0.3876 Acc 0.8341\n",
      "Batch 150 Loss 0.3850 Acc 0.8324\n",
      "Batch 200 Loss 0.3843 Acc 0.8324\n",
      "Training done! Loss 0.3825 Acc 0.8292\n",
      "\n",
      "Evaluate done! Loss 0.4307 Acc 0.8036\n",
      "\n",
      "Time taken for Epoch 48: 2.365382432937622 secs\n",
      "\n",
      "====================================================================================================\n",
      "Epoch 49 start!\n",
      "Batch 50 Loss 0.3823 Acc 0.8512\n",
      "Batch 100 Loss 0.3790 Acc 0.8422\n",
      "Batch 150 Loss 0.3774 Acc 0.8400\n",
      "Batch 200 Loss 0.3782 Acc 0.8375\n",
      "Training done! Loss 0.3783 Acc 0.8310\n",
      "\n",
      "Evaluate done! Loss 0.4025 Acc 0.8140\n",
      "\n",
      "Time taken for Epoch 49: 2.378305196762085 secs\n",
      "\n",
      "====================================================================================================\n",
      "Epoch 50 start!\n",
      "Batch 50 Loss 0.3970 Acc 0.8459\n",
      "Batch 100 Loss 0.3816 Acc 0.8453\n",
      "Batch 150 Loss 0.3805 Acc 0.8384\n",
      "Batch 200 Loss 0.3815 Acc 0.8360\n",
      "Training done! Loss 0.3815 Acc 0.8305\n",
      "\n",
      "Evaluate done! Loss 0.4071 Acc 0.8160\n",
      "\n",
      "Time taken for Epoch 50: 2.4014320373535156 secs\n",
      "\n",
      "====================================================================================================\n"
     ]
    }
   ],
   "source": [
    "import time\n",
    "\n",
    "learning_rate = 1e-3\n",
    "EPOCH = 50\n",
    "\n",
    "model = IMDBModel().to(device)\n",
    "optimizer = torch.optim.Adam(model.parameters(), lr=learning_rate)\n",
    "loss_criterion = nn.BCELoss()\n",
    "\n",
    "train_loss_ls = []\n",
    "train_acc_ls = []\n",
    "valid_loss_ls = []\n",
    "valid_acc_ls = []\n",
    "\n",
    "for epoch in range(EPOCH):\n",
    "    start = time.time()\n",
    "    print('Epoch {} start!'.format(epoch+1))\n",
    "\n",
    "    train_loss, train_acc = train(train_loader)\n",
    "    train_loss_ls.append(train_loss)\n",
    "    train_acc_ls.append(train_acc)\n",
    "\n",
    "    valid_loss, valid_acc = evaluate(valid_loader)\n",
    "    valid_loss_ls.append(valid_loss)\n",
    "    valid_acc_ls.append(valid_acc)\n",
    "\n",
    "    print('Time taken for Epoch {}: {} secs\\n'.format(epoch+1, time.time() - start))\n",
    "    print('='*100)"
   ]
  },
  {
   "cell_type": "markdown",
   "metadata": {
    "id": "-TVhqU4ecmS9"
   },
   "source": [
    "## Plot loss and accuracy of train and validation"
   ]
  },
  {
   "cell_type": "code",
   "execution_count": 44,
   "metadata": {
    "id": "OzZ3PBEN_Lkb"
   },
   "outputs": [
    {
     "data": {
      "text/plain": [
       "<matplotlib.legend.Legend at 0x7f5dce72b7c0>"
      ]
     },
     "execution_count": 44,
     "metadata": {},
     "output_type": "execute_result"
    },
    {
     "data": {
      "image/png": "[encoded data removed]",
      "text/plain": [
       "<Figure size 1000x600 with 1 Axes>"
      ]
     },
     "metadata": {},
     "output_type": "display_data"
    }
   ],
   "source": [
    "import matplotlib.pyplot as plt\n",
    "\n",
    "epochs = range(1, EPOCH+1)\n",
    "fig = plt.figure(figsize=(10, 6))\n",
    "fig.tight_layout()\n",
    "\n",
    "plt.subplot(2, 1, 2)\n",
    "plt.plot(epochs, train_loss_ls, 'r', label='Training loss')\n",
    "plt.plot(epochs, valid_loss_ls, 'b', label='Validation loss')\n",
    "plt.title('Training and validation loss')\n",
    "plt.xlabel('Epochs')\n",
    "plt.ylabel('Loss')\n",
    "plt.legend(loc='lower right')"
   ]
  },
  {
   "cell_type": "code",
   "execution_count": 45,
   "metadata": {
    "id": "R-OqF0Li_j42"
   },
   "outputs": [
    {
     "data": {
      "text/plain": [
       "<matplotlib.legend.Legend at 0x7f5dce606aa0>"
      ]
     },
     "execution_count": 45,
     "metadata": {},
     "output_type": "execute_result"
    },
    {
     "data": {
      "image/png": "[encoded data removed]",
      "text/plain": [
       "<Figure size 1000x600 with 1 Axes>"
      ]
     },
     "metadata": {},
     "output_type": "display_data"
    }
   ],
   "source": [
    "epochs = range(1, EPOCH+1)\n",
    "fig = plt.figure(figsize=(10, 6))\n",
    "fig.tight_layout()\n",
    "\n",
    "plt.subplot(2, 1, 2)\n",
    "plt.plot(epochs, train_acc_ls, 'r', label='Training acc')\n",
    "plt.plot(epochs, valid_acc_ls, 'b', label='Validation acc')\n",
    "plt.title('Training and validation accuracy')\n",
    "plt.xlabel('Epochs')\n",
    "plt.ylabel('Accuracy')\n",
    "plt.legend(loc='lower right')"
   ]
  },
  {
   "cell_type": "markdown",
   "metadata": {
    "id": "0YRJfVR1cq5Z"
   },
   "source": [
    "## Prediction"
   ]
  },
  {
   "cell_type": "code",
   "execution_count": 46,
   "metadata": {
    "id": "gxBI7faa6p6a"
   },
   "outputs": [
    {
     "name": "stdout",
     "output_type": "stream",
     "text": [
      "Evaluate done! Loss 0.4301 Acc 0.8157\n",
      "\n"
     ]
    }
   ],
   "source": [
    "test_loss, test_acc = evaluate(test_loader)"
   ]
  }
 ],
 "metadata": {
  "accelerator": "GPU",
  "colab": {
   "gpuType": "T4",
   "provenance": [
    {
     "file_id": "119H_Ungzu8v5tWl_imbDToth5FafRT9G",
     "timestamp": 1691136137391
    }
   ]
  },
  "kernelspec": {
   "display_name": "Python 3 (ipykernel)",
   "language": "python",
   "name": "python3"
  },
  "language_info": {
   "codemirror_mode": {
    "name": "ipython",
    "version": 3
   },
   "file_extension": ".py",
   "mimetype": "text/x-python",
   "name": "python",
   "nbconvert_exporter": "python",
   "pygments_lexer": "ipython3",
   "version": "3.10.6"
  }
 },
 "nbformat": 4,
 "nbformat_minor": 4
}
