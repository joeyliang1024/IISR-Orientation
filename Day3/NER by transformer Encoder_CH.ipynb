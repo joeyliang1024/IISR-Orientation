{
 "cells": [
  {
   "cell_type": "markdown",
   "metadata": {
    "id": "VTlA_zQbs4x2"
   },
   "source": [
    "# NER by transformer"
   ]
  },
  {
   "cell_type": "code",
   "execution_count": 2,
   "metadata": {
    "id": "uJYX5qKHXLRG"
   },
   "outputs": [
    {
     "name": "stdout",
     "output_type": "stream",
     "text": [
      "Mon Aug  7 14:59:19 2023       \n",
      "+-----------------------------------------------------------------------------+\n",
      "| NVIDIA-SMI 470.103.01   Driver Version: 470.103.01   CUDA Version: 11.4     |\n",
      "|-------------------------------+----------------------+----------------------+\n",
      "| GPU  Name        Persistence-M| Bus-Id        Disp.A | Volatile Uncorr. ECC |\n",
      "| Fan  Temp  Perf  Pwr:Usage/Cap|         Memory-Usage | GPU-Util  Compute M. |\n",
      "|                               |                      |               MIG M. |\n",
      "|===============================+======================+======================|\n",
      "|   0  NVIDIA GeForce ...  Off  | 00000000:01:00.0 Off |                  N/A |\n",
      "|  0%   32C    P8     7W / 198W |      2MiB /  8119MiB |      0%      Default |\n",
      "|                               |                      |                  N/A |\n",
      "+-------------------------------+----------------------+----------------------+\n",
      "|   1  NVIDIA GeForce ...  Off  | 00000000:17:00.0 Off |                  N/A |\n",
      "|  0%   34C    P8     7W / 198W |      2MiB /  8119MiB |      0%      Default |\n",
      "|                               |                      |                  N/A |\n",
      "+-------------------------------+----------------------+----------------------+\n",
      "|   2  NVIDIA GeForce ...  Off  | 00000000:65:00.0 Off |                  N/A |\n",
      "|  0%   38C    P8     8W / 198W |     19MiB /  8117MiB |      0%      Default |\n",
      "|                               |                      |                  N/A |\n",
      "+-------------------------------+----------------------+----------------------+\n",
      "                                                                               \n",
      "+-----------------------------------------------------------------------------+\n",
      "| Processes:                                                                  |\n",
      "|  GPU   GI   CI        PID   Type   Process name                  GPU Memory |\n",
      "|        ID   ID                                                   Usage      |\n",
      "|=============================================================================|\n",
      "|    2   N/A  N/A      1489      G   /usr/lib/xorg/Xorg                 16MiB |\n",
      "+-----------------------------------------------------------------------------+\n"
     ]
    }
   ],
   "source": [
    "!nvidia-smi"
   ]
  },
  {
   "cell_type": "code",
   "execution_count": null,
   "metadata": {
    "colab": {
     "base_uri": "https://localhost:8080/"
    },
    "executionInfo": {
     "elapsed": 12249,
     "status": "ok",
     "timestamp": 1689300475448,
     "user": {
      "displayName": "廖振閔",
      "userId": "17040054596246578566"
     },
     "user_tz": -480
    },
    "id": "BjcgsM7vwcc9",
    "outputId": "387b3a9d-5fc6-4e00-e41c-c814f588a635"
   },
   "outputs": [],
   "source": [
    "#!pip install torch\n",
    "import torch\n",
    "import torch.nn as nn\n",
    "from torch.utils.data.dataset import Dataset\n",
    "from torch.utils.data import DataLoader\n",
    "from torch.nn.utils.rnn import pack_sequence\n",
    "import torch.nn.functional as F\n",
    "import math\n",
    "import numpy as np\n",
    "import os\n",
    "import time\n",
    "import matplotlib.pyplot as plt\n",
    "from gensim.models.word2vec import Word2Vec\n",
    "\n",
    "device = torch.device(\"cuda:0\" if torch.cuda.is_available() else \"cpu\")\n",
    "print(device)"
   ]
  },
  {
   "cell_type": "markdown",
   "metadata": {
    "id": "pDQf7UhptHkJ"
   },
   "source": [
    "## Load Data"
   ]
  },
  {
   "cell_type": "markdown",
   "metadata": {
    "id": "9mSvepZGyWoY"
   },
   "source": [
    "### **CoNLL-2003 NER Dataset**\n",
    "包含四種named entities的標註資料，分別是***人名(persons)***、***地名(locations)***、***組織名(organizations)***、***其他名稱(miscellaneous)***。  \n",
    "資料集格式為(word、POS tag、syntactic chunk tag、BIO tag)  \n",
    "此處使用處理過的資料，只留下word和BIO tag。\n",
    "BIO tagging是指把named entities token分為Begin、Inside、Outside，範例如下:\n",
    "\n",
    "Contains annotation data for four named entities, namely persons, locations, organizations, and miscellaneous.\n",
    "The data set format is (word, POS tag, syntactic chunk tag, BIO tag)\n",
    "The processed data is used here, leaving only word and BIO tag.\n",
    "BIO tagging refers to dividing named entities tokens into Begin, Inside, and Outside. Examples are as follows:\n",
    "\n",
    "Tom ***B-PER***  \n",
    "cruise ***I-PER***  \n",
    "is ***O***  \n",
    "an ***O***  \n",
    "American ***B-LOC***  \n",
    "actor ***O***  \n",
    "and ***O***  \n",
    "producer ***O***  \n",
    ". ***O***  "
   ]
  },
  {
   "cell_type": "markdown",
   "metadata": {
    "id": "wg-KngVdGYwB"
   },
   "source": [
    "### 讀入CoNLL-2003 dataset的三個檔案(train, valid, test)"
   ]
  },
  {
   "cell_type": "code",
   "execution_count": null,
   "metadata": {
    "id": "25RSjl0cGEIA"
   },
   "outputs": [],
   "source": [
    "# 資料集在自己google drive底下的路徑\n",
    "train_path = 'CoNLL2003_Data/train.txt' # 用來訓練的資料\n",
    "eval_path = 'CoNLL2003_Data/eval.txt' # 有時候在資料集當中會叫valid，但意思都是拿來驗證的資料，用來判斷模型是否出現過擬合。\n",
    "test_path = 'CoNLL2003_Data/test.txt' # 要預測的資料\n"
   ]
  },
  {
   "cell_type": "markdown",
   "metadata": {
    "id": "2g4i44uRPhok"
   },
   "source": [
    "先看看檔案前13行的樣子"
   ]
  },
  {
   "cell_type": "code",
   "execution_count": null,
   "metadata": {
    "colab": {
     "base_uri": "https://localhost:8080/"
    },
    "executionInfo": {
     "elapsed": 1145,
     "status": "ok",
     "timestamp": 1689300476584,
     "user": {
      "displayName": "廖振閔",
      "userId": "17040054596246578566"
     },
     "user_tz": -480
    },
    "id": "8G-LyX6OSp-I",
    "outputId": "61db890f-9eeb-4697-c85e-b9b361134681"
   },
   "outputs": [],
   "source": [
    "with open(train_path) as f:\n",
    "    print(f.readlines()[:13])"
   ]
  },
  {
   "cell_type": "markdown",
   "metadata": {
    "id": "b-lPwKIxPAeU"
   },
   "source": [
    "dataset由\"-DOCSTART- O\\n\"開始，後面接續著幾句話，每句話由換行(\"\\n\")隔開\n",
    "\n",
    "第一句話是:\n",
    "\"EU rejects German call to boycott British lamb.\"\n",
    "\n",
    "標籤是:\n",
    "['B-ORG', 'O', 'B-MISC', 'O', 'O', 'O', 'B-MISC', 'O', 'O']"
   ]
  },
  {
   "cell_type": "markdown",
   "metadata": {
    "id": "Y0HWeTMgAC4B"
   },
   "source": [
    "接下來請將資料整理為List[List[str]]，用一個List存放所有句子，每個句子都是一個List，\n",
    "input和output一對一對應。  \n",
    "\n",
    "整理後範例結果:\n",
    "* **Input**  \n",
    "[['-DOCSTART-'], ['EU', 'rejects', 'German', 'call', 'to', 'boycott', 'British', 'lamb', '.'], ['Peter', 'Blackburn']]  \n",
    "* **Output**  \n",
    "[['O'], ['B-ORG', 'O', 'B-MISC', 'O', 'O', 'O', 'B-MISC', 'O', 'O'], ['B-PER', 'I-PER']]  \n",
    "\n"
   ]
  },
  {
   "cell_type": "markdown",
   "metadata": {
    "id": "j9hlfKn8GFCs"
   },
   "source": [
    "#### 在以下cell中撰寫讀檔function (約30行內)\n",
    "* 輸入: 檔案路徑  \n",
    "* 輸出: 兩個List，shape皆為List[List[str]]，分別存放資料輸入、輸出。  \n",
    "\n",
    "\n",
    "*提示*  \n",
    "* `open(file_path)`\n",
    "* `w, t = line.split()` 取得詞(w)和BIO tagging答案(t)\n",
    "* split的相關用法: `print(str.split.__doc__)`"
   ]
  },
  {
   "cell_type": "code",
   "execution_count": 4,
   "metadata": {
    "id": "3x0CAStw-Aqq"
   },
   "outputs": [],
   "source": [
    "from tqdm import tqdm\n",
    "def data_loader(file_path):\n",
    "    words, targets = [], []\n",
    "    word_sentence, target_sentence = [], []\n",
    "    with open(file_path, 'r', encoding='UTF-8') as file:\n",
    "        for line in tqdm(file):\n",
    "            if line !=\"\\n\":\n",
    "                w, t = line.split()\n",
    "                word_sentence.append(w)\n",
    "                target_sentence.append(t)\n",
    "            else:\n",
    "                words.append(word_sentence)\n",
    "                targets.append(target_sentence)\n",
    "                word_sentence, target_sentence = [], []\n",
    "    return words, targets"
   ]
  },
  {
   "cell_type": "markdown",
   "metadata": {
    "id": "Uqf0byFASzrh"
   },
   "source": [
    "讀檔並看看結果是否符合預期"
   ]
  },
  {
   "cell_type": "code",
   "execution_count": null,
   "metadata": {
    "colab": {
     "base_uri": "https://localhost:8080/"
    },
    "executionInfo": {
     "elapsed": 276,
     "status": "ok",
     "timestamp": 1629266982802,
     "user": {
      "displayName": "塗子謙",
      "photoUrl": "",
      "userId": "01727064551241555740"
     },
     "user_tz": -480
    },
    "id": "1iJy5ancKlAD",
    "outputId": "763d77f7-475a-4f0c-d3d8-913da380b465"
   },
   "outputs": [],
   "source": [
    "train_words, train_targets = data_loader(train_path)\n",
    "eval_words, eval_targets = data_loader(eval_path)\n",
    "test_words, _ = data_loader(test_path)\n",
    "\n",
    "print(train_words[:5])\n",
    "print(train_targets[:5])"
   ]
  },
  {
   "cell_type": "markdown",
   "metadata": {
    "id": "_8jlj7_aKNA9"
   },
   "source": [
    "### 使用gensim訓練Word2Vec (2行)\n",
    "訓練並儲存模型，下次執行時只需要load就好。  \n",
    "\n",
    "*使用到的變數*\n",
    "* train_words\n",
    "* word_emb_dim\n",
    "\n",
    "*要產生的變數*\n",
    "* embedding_model\n",
    "\n",
    "*提示*  \n",
    "* Word2Vec min_count設為1  \n",
    "* `.save(output_path + 'word_embedding_model')`\n",
    "* https://radimrehurek.com/gensim/models/word2vec.html"
   ]
  },
  {
   "cell_type": "code",
   "execution_count": 6,
   "metadata": {
    "id": "YBBwui5pk9P9"
   },
   "outputs": [],
   "source": [
    "word_emb_dim = 128 # 與後面的d_model參數需一致"
   ]
  },
  {
   "cell_type": "code",
   "execution_count": null,
   "metadata": {
    "id": "R8O604wdRXgC"
   },
   "outputs": [],
   "source": [
    "output_path = \"output/\"\n",
    "embedding_model =  Word2Vec(sentences=train_words, vector_size=word_emb_dim, window=5, min_count=1, workers=4)# 訓練word2vec模型\n",
    "embedding_model.save(output_path + 'word_embedding_model')# 儲存模型\n",
    "embedding_model = Word2Vec.load(output_path + '/word_embedding_model')"
   ]
  },
  {
   "cell_type": "markdown",
   "metadata": {
    "id": "7ukgK041MJIS"
   },
   "source": [
    "### 使用embedding_model建立vocabulary，並在vocab的index 0位置加入**\\<PAD\\>**、index 1加入**\\<UNK\\>**。(4行)  \n",
    "通常\\<PAD\\>建議編號為0，因為大多數處理padding的function中都是預設輸入值為0時是代表padding，  \n",
    "\\<UNK\\>則沒有限制(但通常放1或最後)  \n",
    "\n",
    "*使用到的變數*\n",
    "* word_emb_dim\n",
    "* embedding_model\n",
    "\n",
    "*要產生的變數*\n",
    "* word_embedding: List[List[float]]，傳入index可以取得該index的embedding\n",
    "* vocab: List[str]，傳入index可以取得該index的字串\n",
    "* vocab_size: vocab中有多少字(包括\\<PAD\\>、\\<UNK\\>\n",
    "\n",
    "*提示*  \n",
    "* `list(embedding_model.wv.key_to_index.keys())` => 所有word照順序排的list\n",
    "* `embedding_model.wv[embedding_word].tolist()` => 所有embedding照順序排的list\n",
    "* `[[0.] * word_emb_dim]` => 產生一個list，裡面有word_emb_dim個0.\n",
    "* `A_list = [1, 2, 3]`  \n",
    "`B_list = [4, 5, 6]`  \n",
    "`A_list + B_list = [1, 2, 3, 4, 5, 6]`"
   ]
  },
  {
   "cell_type": "code",
   "execution_count": 9,
   "metadata": {
    "id": "-hG6DnjAVGGL"
   },
   "outputs": [],
   "source": [
    "word_embedding = [[0.5] * word_emb_dim] + embedding_model.wv.vectors.tolist() # 將<UNK>的vector設為全部0.5的向量並加入embedding list的最前面\n",
    "word_embedding = [[0.] * word_emb_dim] +  word_embedding# 將<PAD>的vector設為全部0.的向量並加入embedding list的最前面\n",
    "\n",
    "vocab = [\"<PAD>\"] + [\"<UNK>\"] + list(embedding_model.wv.key_to_index.keys())\n",
    "vocab_size = len(vocab)"
   ]
  },
  {
   "cell_type": "code",
   "execution_count": 10,
   "metadata": {},
   "outputs": [
    {
     "name": "stdout",
     "output_type": "stream",
     "text": [
      "23626\n"
     ]
    },
    {
     "data": {
      "text/plain": [
       "23626"
      ]
     },
     "execution_count": 10,
     "metadata": {},
     "output_type": "execute_result"
    }
   ],
   "source": [
    "print(len(word_embedding)); len(vocab)"
   ]
  },
  {
   "cell_type": "markdown",
   "metadata": {
    "id": "-_q3lg9P7Vfc"
   },
   "source": [
    "### 建立文字和index互換的list、dictionary (約2行)\n",
    "\n",
    "*使用到的變數*\n",
    "* vocab\n",
    "\n",
    "*要產生的變數*\n",
    "* word2idx\n",
    "* tag2idx\n",
    "\n",
    "*提示*\n",
    "* 文字轉index是dictionary，可用單行for配上`enumerate(vocab)`建字典"
   ]
  },
  {
   "cell_type": "code",
   "execution_count": 11,
   "metadata": {
    "id": "JHWoIAvQVJV-"
   },
   "outputs": [],
   "source": [
    "idx2word = vocab\n",
    "word2idx = {word: idx for idx, word in enumerate(vocab)}\n",
    "\n",
    "idx2tag = ['<PAD>', 'O', 'B-LOC', 'B-PER', 'B-ORG', 'B-MISC', 'I-LOC', 'I-PER', 'I-ORG', 'I-MISC']\n",
    "tag2idx = {tag: idx for idx, tag in  enumerate(idx2tag)}"
   ]
  },
  {
   "cell_type": "markdown",
   "metadata": {
    "id": "IiT6KVo2PU8a"
   },
   "source": [
    "### 將train、eval、test都轉為數字表示。  \n",
    "如果不在vocabulary中，則把word用\\<UNK\\>代替。  \n",
    "\n",
    "\n",
    "`[\"A\" if 條件式 else \"B\" for item in list]`  \n",
    "\n",
    "等價於  \n",
    "\n",
    "    temp_list = []  \n",
    "    for item in list:  \n",
    "      if 條件式:  \n",
    "        temp_list.append(\"A\")  \n",
    "      else:  \n",
    "        temp_list.append(\"B\")  \n",
    "    return temp_list"
   ]
  },
  {
   "cell_type": "code",
   "execution_count": 12,
   "metadata": {
    "id": "sdOt_pJLpsy3"
   },
   "outputs": [],
   "source": [
    "train_words_as_int = [[word2idx['<UNK>'] if word not in word2idx else word2idx[word] for word in sentence] for sentence in train_words]\n",
    "train_targets_as_int = [[tag2idx[tag] for tag in sentence] for sentence in train_targets]\n",
    "\n",
    "eval_words_as_int = [[word2idx['<UNK>'] if word not in word2idx else word2idx[word] for word in sentence] for sentence in eval_words]\n",
    "eval_targets_as_int = [[tag2idx[tag] for tag in sentence] for sentence in eval_targets]\n",
    "\n",
    "test_words_as_int = [[word2idx['<UNK>'] if word not in word2idx else word2idx[word] for word in sentence] for sentence in test_words]"
   ]
  },
  {
   "cell_type": "markdown",
   "metadata": {
    "id": "BCxV0rmirIOb"
   },
   "source": [
    "### Create dataset"
   ]
  },
  {
   "cell_type": "markdown",
   "metadata": {
    "id": "eRzTbQB9Rnbx"
   },
   "source": [
    "定義資料集的BATCH_SIZE"
   ]
  },
  {
   "cell_type": "code",
   "execution_count": 13,
   "metadata": {
    "id": "omjWIGbO3prs"
   },
   "outputs": [],
   "source": [
    "BATCH_SIZE = 64"
   ]
  },
  {
   "cell_type": "code",
   "execution_count": 14,
   "metadata": {
    "id": "D5-F53Pzj_oU"
   },
   "outputs": [],
   "source": [
    "class CoNLLDataset(Dataset):\n",
    "    def __init__(self, words, targets=None):\n",
    "        self.words = words\n",
    "        self.targets = targets\n",
    "\n",
    "    def __getitem__(self, index):\n",
    "        if self.targets == None:\n",
    "            return torch.Tensor(self.words[index]).long()\n",
    "        return torch.Tensor(self.words[index]).long(), torch.Tensor(self.targets[index]).long()\n",
    "\n",
    "    def __len__(self):\n",
    "        return len(self.words)"
   ]
  },
  {
   "cell_type": "code",
   "execution_count": 15,
   "metadata": {
    "id": "a9xOioWpmZWT"
   },
   "outputs": [],
   "source": [
    "def PadCollate(batch):\n",
    "    if type(batch[0]) is tuple: #train, evaluate\n",
    "        x = [t for t, _ in batch]\n",
    "        y = [t for _, t in batch]\n",
    "        x = torch.nn.utils.rnn.pad_sequence(x, batch_first=True)\n",
    "        y = torch.nn.utils.rnn.pad_sequence(y, batch_first=True)\n",
    "        return x, y\n",
    "    else: #test\n",
    "        x = torch.nn.utils.rnn.pad_sequence(batch, batch_first=True)\n",
    "        return x"
   ]
  },
  {
   "cell_type": "markdown",
   "metadata": {
    "id": "WNw38vJPRvHJ"
   },
   "source": [
    "### 由list建立資料集 (3行)  \n",
    "建立好的資料集輸出應為<torch.utils.data.dataloader.DataLoader object at ...>\n",
    "\n",
    "*使用到的變數*  \n",
    "* train_words_as_int\n",
    "* train_targets_as_int\n",
    "* BATCH_SIZE\n",
    "\n",
    "*提示*  \n",
    "* `CoNLLDataset` (傳入train_words_as_int和train_targets_as_int)  \n",
    "\n",
    "* `DataLoader` (傳入dataset、BATCH_SIZE、選擇要shuffle、collate_fn使用PadCollate)  \n",
    "num_workers是多執行緒讀取dataset，預設0但可以開1~4感受看看"
   ]
  },
  {
   "cell_type": "code",
   "execution_count": 16,
   "metadata": {
    "colab": {
     "base_uri": "https://localhost:8080/"
    },
    "executionInfo": {
     "elapsed": 3,
     "status": "ok",
     "timestamp": 1629269619439,
     "user": {
      "displayName": "塗子謙",
      "photoUrl": "",
      "userId": "01727064551241555740"
     },
     "user_tz": -480
    },
    "id": "PESzOjwZx3Xk",
    "outputId": "bb9e6640-83dd-4fe3-ff08-b1816aa74bed"
   },
   "outputs": [
    {
     "name": "stdout",
     "output_type": "stream",
     "text": [
      "<torch.utils.data.dataloader.DataLoader object at 0x7f8d027628f0>\n"
     ]
    }
   ],
   "source": [
    "train_dataset = CoNLLDataset(train_words_as_int, train_targets_as_int)\n",
    "train_loader = DataLoader(train_dataset, BATCH_SIZE, shuffle = True, collate_fn = PadCollate)\n",
    "print(train_loader)"
   ]
  },
  {
   "cell_type": "markdown",
   "metadata": {
    "id": "MtX41psyVqa_"
   },
   "source": [
    "和train_dataset一樣的code，輸入換成eval_words_as_int和eval_targets_as_int而已\n",
    "\n",
    "*使用到的變數*\n",
    "* eval_words_as_int\n",
    "* eval_targets_as_int\n",
    "* BATCH_SIZE\n",
    "\n"
   ]
  },
  {
   "cell_type": "code",
   "execution_count": 17,
   "metadata": {
    "id": "AsYxm-bG0V9g"
   },
   "outputs": [],
   "source": [
    "eval_dataset = CoNLLDataset(eval_words_as_int, eval_targets_as_int)\n",
    "eval_loader = DataLoader(eval_dataset, BATCH_SIZE, shuffle = True, collate_fn = PadCollate)"
   ]
  },
  {
   "cell_type": "markdown",
   "metadata": {
    "id": "xjo5aM00V-hc"
   },
   "source": [
    "同上，但Test dataset只有輸入沒有答案，並且為了之後要輸出，dataset不能洗亂  \n",
    "\n",
    "*使用到的變數*\n",
    "* test_words_as_int\n",
    "* BATCH_SIZE\n",
    "\n",
    "*提示*\n",
    "* 要修改`CoNLLDataset`的傳入值 (少掉targets)\n",
    "* 不要shuffle"
   ]
  },
  {
   "cell_type": "code",
   "execution_count": 18,
   "metadata": {
    "id": "M4kUgKo-FvY8"
   },
   "outputs": [],
   "source": [
    "test_dataset = CoNLLDataset(test_words_as_int)\n",
    "test_loader = DataLoader(test_dataset, BATCH_SIZE, shuffle = True, collate_fn = PadCollate)"
   ]
  },
  {
   "cell_type": "markdown",
   "metadata": {
    "id": "X931k0noL_LK"
   },
   "source": [
    "輸出dataset前三筆，看是否padding成功。"
   ]
  },
  {
   "cell_type": "code",
   "execution_count": 19,
   "metadata": {
    "colab": {
     "base_uri": "https://localhost:8080/"
    },
    "executionInfo": {
     "elapsed": 1380,
     "status": "ok",
     "timestamp": 1629269807809,
     "user": {
      "displayName": "塗子謙",
      "photoUrl": "",
      "userId": "01727064551241555740"
     },
     "user_tz": -480
    },
    "id": "wKSHAS0mvAh7",
    "outputId": "151519c4-e522-4391-bbbf-621fcfe94e7a"
   },
   "outputs": [
    {
     "name": "stdout",
     "output_type": "stream",
     "text": [
      "0\n",
      "(tensor([[ 1091,    56,   106,  ...,     0,     0,     0],\n",
      "        [11869,    23, 11862,  ...,     0,     0,     0],\n",
      "        [   86,  1164,     5,  ...,     0,     0,     0],\n",
      "        ...,\n",
      "        [  109,  1387,     4,  ...,     0,     0,     0],\n",
      "        [   22,     0,     0,  ...,     0,     0,     0],\n",
      "        [ 2032,  2958,  3117,  ...,     0,     0,     0]]), tensor([[1, 1, 1,  ..., 0, 0, 0],\n",
      "        [4, 1, 4,  ..., 0, 0, 0],\n",
      "        [1, 1, 1,  ..., 0, 0, 0],\n",
      "        ...,\n",
      "        [1, 1, 1,  ..., 0, 0, 0],\n",
      "        [1, 0, 0,  ..., 0, 0, 0],\n",
      "        [3, 1, 1,  ..., 0, 0, 0]]))\n",
      "===================================\n",
      "1\n",
      "(tensor([[  348,   219,   672,  ...,     0,     0,     0],\n",
      "        [   22,     0,     0,  ...,     0,     0,     0],\n",
      "        [   86, 12261,  2699,  ...,     0,     0,     0],\n",
      "        ...,\n",
      "        [10748,    78, 10746,  ...,     0,     0,     0],\n",
      "        [   22,     0,     0,  ...,     0,     0,     0],\n",
      "        [  323,   449,  4936,  ...,     0,     0,     0]]), tensor([[4, 1, 1,  ..., 0, 0, 0],\n",
      "        [1, 0, 0,  ..., 0, 0, 0],\n",
      "        [1, 1, 1,  ..., 0, 0, 0],\n",
      "        ...,\n",
      "        [1, 1, 1,  ..., 0, 0, 0],\n",
      "        [1, 0, 0,  ..., 0, 0, 0],\n",
      "        [1, 3, 7,  ..., 0, 0, 0]]))\n",
      "===================================\n",
      "2\n",
      "(tensor([[   19,  2399,  1219,  ...,     0,     0,     0],\n",
      "        [ 6381, 11439,    10,  ...,     0,     0,     0],\n",
      "        [   22,     0,     0,  ...,     0,     0,     0],\n",
      "        ...,\n",
      "        [   19,  7836,    31,  ...,     0,     0,     0],\n",
      "        [  734,  3145,     8,  ...,     0,     0,     0],\n",
      "        [ 1107,   259,     5,  ...,     0,     0,     0]]), tensor([[1, 4, 8,  ..., 0, 0, 0],\n",
      "        [3, 7, 1,  ..., 0, 0, 0],\n",
      "        [1, 0, 0,  ..., 0, 0, 0],\n",
      "        ...,\n",
      "        [1, 1, 1,  ..., 0, 0, 0],\n",
      "        [1, 1, 1,  ..., 0, 0, 0],\n",
      "        [1, 1, 1,  ..., 0, 0, 0]]))\n",
      "===================================\n",
      "3\n",
      "(tensor([[   19,  1216,    31,  ...,     0,     0,     0],\n",
      "        [15465,   454,   586,  ...,     0,     0,     0],\n",
      "        [  765,    60,   248,  ...,     0,     0,     0],\n",
      "        ...,\n",
      "        [ 2562,    23,  5840,  ...,     0,     0,     0],\n",
      "        [  109,   404,   138,  ...,     0,     0,     0],\n",
      "        [ 1954,    18,  3355,  ...,     0,     0,     0]]), tensor([[1, 1, 1,  ..., 0, 0, 0],\n",
      "        [1, 1, 1,  ..., 0, 0, 0],\n",
      "        [1, 1, 1,  ..., 0, 0, 0],\n",
      "        ...,\n",
      "        [4, 1, 4,  ..., 0, 0, 0],\n",
      "        [1, 1, 1,  ..., 0, 0, 0],\n",
      "        [4, 1, 4,  ..., 0, 0, 0]]))\n",
      "===================================\n"
     ]
    }
   ],
   "source": [
    "i = 0\n",
    "for (inp, tar) in enumerate(train_loader):\n",
    "    i += 1\n",
    "    print(inp)\n",
    "    print(tar)\n",
    "    print('===================================')\n",
    "    if i > 3:\n",
    "        break"
   ]
  },
  {
   "cell_type": "markdown",
   "metadata": {
    "id": "PGeSzqDJtKjR"
   },
   "source": [
    "## Tranformer Model"
   ]
  },
  {
   "cell_type": "markdown",
   "metadata": {
    "id": "nBQuibYA4n0n",
    "jp-MarkdownHeadingCollapsed": true,
    "tags": []
   },
   "source": [
    "### Positional encoding\n",
    "\n",
    "Since this model doesn't contain any recurrence or convolution, positional encoding is added to give the model some information about the relative position of the words in the sentence.\n",
    "\n",
    "The positional encoding vector is added to the embedding vector. Embeddings represent a token in a d-dimensional space where tokens with similar meaning will be closer to each other. But the embeddings do not encode the relative position of words in a sentence. So after adding the positional encoding, words will be closer to each other based on the *similarity of their meaning and their position in the sentence*, in the d-dimensional space.\n",
    "\n",
    "See the notebook on [positional encoding](https://github.com/tensorflow/examples/blob/master/community/en/position_encoding.ipynb) to learn more about it. The formula for calculating the positional encoding is as follows:\n",
    "\n",
    "$$\\Large{PE_{(pos, 2i)} = sin(pos / 10000^{2i / d_{model}})} $$\n",
    "$$\\Large{PE_{(pos, 2i+1)} = cos(pos / 10000^{2i / d_{model}})} $$"
   ]
  },
  {
   "cell_type": "code",
   "execution_count": 20,
   "metadata": {
    "id": "WhIOZjMNKujn"
   },
   "outputs": [],
   "source": [
    "def get_angles(pos, i, d_model):\n",
    "    angle_rates = 1 / np.power(10000, (2 * (i//2)) / np.float32(d_model))\n",
    "    return pos * angle_rates"
   ]
  },
  {
   "cell_type": "code",
   "execution_count": 21,
   "metadata": {
    "id": "1Rz82wEs5biZ"
   },
   "outputs": [],
   "source": [
    "def positional_encoding(position, d_model):\n",
    "  angle_rads = get_angles(np.arange(position)[:, np.newaxis],\n",
    "                          np.arange(d_model)[np.newaxis, :],\n",
    "                          d_model)\n",
    "\n",
    "  # apply sin to even indices in the array; 2i\n",
    "  angle_rads[:, 0::2] = np.sin(angle_rads[:, 0::2])\n",
    "\n",
    "  # apply cos to odd indices in the array; 2i+1\n",
    "  angle_rads[:, 1::2] = np.cos(angle_rads[:, 1::2])\n",
    "\n",
    "  pos_encoding = angle_rads[np.newaxis, ...]\n",
    "\n",
    "#   return tf.cast(pos_encoding, dtype=tf.float32)\n",
    "  return pos_encoding"
   ]
  },
  {
   "cell_type": "code",
   "execution_count": 22,
   "metadata": {
    "id": "x3mnppxKZlYX"
   },
   "outputs": [
    {
     "name": "stdout",
     "output_type": "stream",
     "text": [
      "(1, 50, 512)\n"
     ]
    },
    {
     "data": {
      "image/png": "[encoded data removed]",
      "text/plain": [
       "<Figure size 640x480 with 2 Axes>"
      ]
     },
     "metadata": {},
     "output_type": "display_data"
    }
   ],
   "source": [
    "pos_encoding = positional_encoding(50, 512)\n",
    "print (pos_encoding.shape)\n",
    "\n",
    "plt.pcolormesh(pos_encoding[0], cmap='RdBu')\n",
    "plt.xlabel('Depth')\n",
    "plt.xlim((0, 512))\n",
    "plt.ylabel('Position')\n",
    "plt.colorbar()\n",
    "plt.show()"
   ]
  },
  {
   "cell_type": "markdown",
   "metadata": {
    "id": "DZOC44quWsuu",
    "jp-MarkdownHeadingCollapsed": true,
    "tags": []
   },
   "source": [
    "### Masking  \n",
    "為了傳入self-attention，把資料中padding的部分(值為0)標為0.，其他的標為1."
   ]
  },
  {
   "cell_type": "code",
   "execution_count": 23,
   "metadata": {
    "id": "53LV_-EOWEOr"
   },
   "outputs": [],
   "source": [
    "def create_padding_mask(seq):\n",
    "  seq = seq.bool().float()\n",
    "\n",
    "  # add extra dimensions to add the padding\n",
    "  # to the attention logits.\n",
    "  return seq[:, None, None, :]  # (batch_size, 1, 1, seq_len)"
   ]
  },
  {
   "cell_type": "code",
   "execution_count": 24,
   "metadata": {
    "colab": {
     "base_uri": "https://localhost:8080/"
    },
    "executionInfo": {
     "elapsed": 408,
     "status": "ok",
     "timestamp": 1629269919680,
     "user": {
      "displayName": "塗子謙",
      "photoUrl": "",
      "userId": "01727064551241555740"
     },
     "user_tz": -480
    },
    "id": "pus9Ji8413t7",
    "outputId": "41352537-2466-4a50-c1a9-3812f4467fb6"
   },
   "outputs": [
    {
     "data": {
      "text/plain": [
       "tensor([[[[1., 1., 0., 0., 1.]]],\n",
       "\n",
       "\n",
       "        [[[1., 1., 1., 0., 0.]]],\n",
       "\n",
       "\n",
       "        [[[0., 0., 0., 1., 1.]]]])"
      ]
     },
     "execution_count": 24,
     "metadata": {},
     "output_type": "execute_result"
    }
   ],
   "source": [
    "x = torch.Tensor([[7, 6, 0, 0, 1], [1, 2, 3, 0, 0], [0, 0, 0, 4, 5]])\n",
    "create_padding_mask(x)"
   ]
  },
  {
   "cell_type": "markdown",
   "metadata": {
    "id": "7G6Z2KV2WvFW"
   },
   "source": [
    "### Scaled dot product attention (約10行)\n"
   ]
  },
  {
   "cell_type": "markdown",
   "metadata": {
    "id": "vsxEE_-Wa1gF"
   },
   "source": [
    "<img src=\"https://www.tensorflow.org/images/tutorials/transformer/scaled_attention.png\" width=\"500\" alt=\"scaled_dot_product_attention\">\n",
    "\n",
    "The attention function used by the transformer takes three inputs: Q (query), K (key), V (value). The equation used to calculate the attention weights is:\n",
    "\n",
    "$$\\Large{Attention(Q, K, V) = softmax_k(\\frac{QK^T}{\\sqrt{d_k}}) V} $$\n",
    "\n",
    "The dot-product attention is scaled by a factor of square root of the depth. This is done because for large values of depth, the dot product grows large in magnitude pushing the softmax function where it has small gradients resulting in a very hard softmax.\n",
    "\n",
    "For example, consider that `Q` and `K` have a mean of 0 and variance of 1. Their matrix multiplication will have a mean of 0 and variance of `dk`. Hence, *square root of `dk`* is used for scaling (and not any other number) because the matmul of `Q` and `K` should have a mean of 0 and variance of 1, and you get a gentler softmax.\n",
    "\n",
    "The mask is multiplied with -1e9 (close to negative infinity). This is done because the mask is summed with the scaled matrix multiplication of Q and K and is applied immediately before a softmax. The goal is to zero out these cells, and large negative inputs to softmax are near zero in the output."
   ]
  },
  {
   "cell_type": "markdown",
   "metadata": {
    "id": "xwcg4Tf6ao1L"
   },
   "source": [
    "輸入q、k、v，算出所有output  \n",
    "\n",
    "*提示*\n",
    "* `torch.matmul` 算q跟k相乘 (k要transpose)\n",
    "* `.size`取得k的最後一個dimension\n",
    "* 把matmul_qk 除以 ${\\sqrt{d_k}}$ (用`math.sqrt` 算)\n",
    "* mask若不是None，把${\\frac{QK^T}{\\sqrt{d_k}}}$結果中被mask的位置變成-1e9，來使softmax後的值趨近於0，  \n",
    "(mask變數中，被mask的值為0，使用`scaled_attention_logits.masked_fill(mask == X, Y)`，  \n",
    "若mask中的值為X，就把scaled_attention_logits同樣位置的值換為Y)\n",
    "* `F.softmax` 得到attention的值\n",
    "* `torch.matmul` 把attention和V相乘\n"
   ]
  },
  {
   "cell_type": "code",
   "execution_count": 25,
   "metadata": {
    "id": "kEEDHrZqWIDT"
   },
   "outputs": [],
   "source": [
    "def scaled_dot_product_attention(q, k, v, mask):\n",
    "  \"\"\"Calculate the attention weights.\n",
    "  q, k, v must have matching leading dimensions.\n",
    "  k, v must have matching penultimate dimension, i.e.: seq_len_k = seq_len_v.\n",
    "  The mask has different shapes depending on its type(padding or look ahead)\n",
    "  but it must be broadcastable for addition.\n",
    "\n",
    "  Args:\n",
    "    q: query shape == (..., seq_len_q, depth)\n",
    "    k: key shape == (..., seq_len_k, depth)\n",
    "    v: value shape == (..., seq_len_v, depth_v)\n",
    "    mask: Float tensor with shape broadcastable\n",
    "          to (..., seq_len_q, seq_len_k). Defaults to None.\n",
    "\n",
    "  Returns:\n",
    "    output, attention_weights\n",
    "  \"\"\"\n",
    "\n",
    "\n",
    "\n",
    "  matmul_qk =  torch.matmul(q, k.transpose(-2, -1)) # (..., seq_len_q, seq_len_k)\n",
    "\n",
    "  # scale matmul_qk\n",
    "  dk = k.size(-1)\n",
    "  scaled_attention_logits = matmul_qk / math.sqrt(dk)\n",
    "\n",
    "  # add the mask to the scaled tensor.\n",
    "  if mask is not None:\n",
    "    scaled_attention_logits = scaled_attention_logits.masked_fill(mask == 0, -1e9)\n",
    "\n",
    "  # softmax is normalized on the last axis (seq_len_k) so that the scores\n",
    "  # add up to 1.\n",
    "  attention_weights =  F.softmax(scaled_attention_logits, dim=-1) # (..., seq_len_q, seq_len_k)\n",
    "\n",
    "  output = torch.matmul(attention_weights, v)# (..., seq_len_q, depth_v)\n",
    "\n",
    "  return output, attention_weights"
   ]
  },
  {
   "cell_type": "markdown",
   "metadata": {
    "id": "shywm-UvKI0y"
   },
   "source": [
    "測試是否能執行，輸出應為  \n",
    "tensor([[1.0000e+01, 9.2766e-25]])  \n",
    "tensor([[8.4333e-26, 1.0000e+00, 8.4333e-26, 8.4333e-26]])"
   ]
  },
  {
   "cell_type": "code",
   "execution_count": null,
   "metadata": {
    "colab": {
     "base_uri": "https://localhost:8080/"
    },
    "executionInfo": {
     "elapsed": 407,
     "status": "ok",
     "timestamp": 1629270168901,
     "user": {
      "displayName": "塗子謙",
      "photoUrl": "",
      "userId": "01727064551241555740"
     },
     "user_tz": -480
    },
    "id": "qFYPVJoGi_Es",
    "outputId": "8d91436b-3d0d-4fa9-a187-95fbd9ee6249"
   },
   "outputs": [
    {
     "ename": "NameError",
     "evalue": "name 'torch' is not defined",
     "output_type": "error",
     "traceback": [
      "\u001b[0;31m---------------------------------------------------------------------------\u001b[0m",
      "\u001b[0;31mNameError\u001b[0m                                 Traceback (most recent call last)",
      "Cell \u001b[0;32mIn[1], line 1\u001b[0m\n\u001b[0;32m----> 1\u001b[0m temp_k \u001b[38;5;241m=\u001b[39m \u001b[43mtorch\u001b[49m\u001b[38;5;241m.\u001b[39mtensor([[\u001b[38;5;241m10\u001b[39m,\u001b[38;5;241m0\u001b[39m,\u001b[38;5;241m0\u001b[39m],\n\u001b[1;32m      2\u001b[0m             [\u001b[38;5;241m0\u001b[39m,\u001b[38;5;241m10\u001b[39m,\u001b[38;5;241m0\u001b[39m],\n\u001b[1;32m      3\u001b[0m             [\u001b[38;5;241m0\u001b[39m,\u001b[38;5;241m0\u001b[39m,\u001b[38;5;241m10\u001b[39m],\n\u001b[1;32m      4\u001b[0m             [\u001b[38;5;241m0\u001b[39m,\u001b[38;5;241m0\u001b[39m,\u001b[38;5;241m10\u001b[39m]], dtype\u001b[38;5;241m=\u001b[39mtorch\u001b[38;5;241m.\u001b[39mfloat32)\u001b[38;5;241m.\u001b[39mto(device)  \u001b[38;5;66;03m# (4, 3)\u001b[39;00m\n\u001b[1;32m      6\u001b[0m temp_v \u001b[38;5;241m=\u001b[39m torch\u001b[38;5;241m.\u001b[39mtensor([[   \u001b[38;5;241m1\u001b[39m,\u001b[38;5;241m0\u001b[39m],\n\u001b[1;32m      7\u001b[0m             [  \u001b[38;5;241m10\u001b[39m,\u001b[38;5;241m0\u001b[39m],\n\u001b[1;32m      8\u001b[0m             [ \u001b[38;5;241m100\u001b[39m,\u001b[38;5;241m5\u001b[39m],\n\u001b[1;32m      9\u001b[0m             [\u001b[38;5;241m1000\u001b[39m,\u001b[38;5;241m6\u001b[39m]], dtype\u001b[38;5;241m=\u001b[39mtorch\u001b[38;5;241m.\u001b[39mfloat32)\u001b[38;5;241m.\u001b[39mto(device)  \u001b[38;5;66;03m# (4, 2)\u001b[39;00m\n\u001b[1;32m     11\u001b[0m \u001b[38;5;66;03m# This `query` aligns with the second `key`,\u001b[39;00m\n\u001b[1;32m     12\u001b[0m \u001b[38;5;66;03m# so the second `value` is returned.\u001b[39;00m\n",
      "\u001b[0;31mNameError\u001b[0m: name 'torch' is not defined"
     ]
    }
   ],
   "source": [
    "temp_k = torch.tensor([[10,0,0],\n",
    "            [0,10,0],\n",
    "            [0,0,10],\n",
    "            [0,0,10]], dtype=torch.float32).to(device)  # (4, 3)\n",
    "\n",
    "temp_v = torch.tensor([[   1,0],\n",
    "            [  10,0],\n",
    "            [ 100,5],\n",
    "            [1000,6]], dtype=torch.float32).to(device)  # (4, 2)\n",
    "\n",
    "# This `query` aligns with the second `key`,\n",
    "# so the second `value` is returned.\n",
    "temp_q = torch.tensor([[0, 10, 0]], dtype=torch.float32).to(device)  # (1, 3)\n",
    "\n",
    "temp_out, temp_attn = scaled_dot_product_attention(temp_q, temp_k, temp_v, None)\n",
    "print(temp_out)\n",
    "print(temp_attn)"
   ]
  },
  {
   "cell_type": "markdown",
   "metadata": {
    "id": "Q8yW9cB0WxuG"
   },
   "source": [
    "### Multi-head attention (約30行)"
   ]
  },
  {
   "cell_type": "markdown",
   "metadata": {
    "id": "fz5BMC8Kaoqo"
   },
   "source": [
    "<img src=\"https://www.tensorflow.org/images/tutorials/transformer/multi_head_attention.png\" width=\"500\" alt=\"multi-head attention\">\n",
    "\n",
    "\n",
    "Multi-head attention consists of four parts:\n",
    "*    Linear layers and split into heads.\n",
    "*    Scaled dot-product attention.\n",
    "*    Concatenation of heads.\n",
    "*    Final linear layer."
   ]
  },
  {
   "cell_type": "markdown",
   "metadata": {
    "id": "JPmbr6F1C-v_"
   },
   "source": [
    "Each multi-head attention block gets three inputs; Q (query), K (key), V (value). These are put through linear (Dense) layers and split up into multiple heads.\n",
    "\n",
    "The `scaled_dot_product_attention` defined above is applied to each head (broadcasted for efficiency). An appropriate mask must be used in the attention step.  The attention output for each head is then concatenated (using `.transpose`, and `.view`) and put through a final `Linear` layer.\n",
    "\n",
    "Instead of one single attention head, Q, K, and V are split into multiple heads because it allows the model to jointly attend to information at different positions from different representational spaces. After the split each head has a reduced dimensionality, so the total computation cost is the same as a single head attention with full dimensionality."
   ]
  },
  {
   "cell_type": "markdown",
   "metadata": {
    "id": "8-WCd1S2eCgf"
   },
   "source": [
    "*提示*  \n",
    "* 總共四個`nn.Linear`，分別代表${W_q W_k W_v W_o}$\n",
    "* Multi-head使用`.view`和`.transpose`完成\n",
    "* forward() function流程\n",
    " * 取得batch_size\n",
    " * 將輸入的q、k、v經過Linear layer，得到要計算attention的q、k、v  \n",
    " `q = self.Wq(q)`\n",
    " * `split_heads` (需用到batch_size)\n",
    " * `scaled_dot_product_attention` (記得輸入mask)\n",
    " * 用`.transpose().contiguous()`和`.view`把`scaled_attention`的shape變回來   \n",
    " 再用`self.Wo`把multi-head attention的結果合併"
   ]
  },
  {
   "cell_type": "code",
   "execution_count": 27,
   "metadata": {
    "id": "MUhY8m1xWRX9"
   },
   "outputs": [],
   "source": [
    "class MultiHeadAttention(nn.Module):\n",
    "  def __init__(self, d_model, num_heads):\n",
    "    super(MultiHeadAttention, self).__init__()\n",
    "    self.num_heads = num_heads\n",
    "\n",
    "    assert d_model % num_heads == 0\n",
    "\n",
    "    self.depth = d_model // num_heads\n",
    "\n",
    "    self.wq = nn.Linear(d_model, d_model)\n",
    "    self.wk = nn.Linear(d_model, d_model)\n",
    "    self.wv = nn.Linear(d_model, d_model)\n",
    "    self.wo = nn.Linear(d_model, d_model)\n",
    "\n",
    "  def split_heads(self, x, batch_size):\n",
    "    \"\"\"Split the last dimension into (num_heads, depth).\n",
    "    Transpose the result such that the shape is (batch_size, num_heads, seq_len, depth)\n",
    "    \"\"\"\n",
    "    x = x.view(batch_size, -1, self.num_heads, self.depth)\n",
    "    return x.transpose(1, 2)\n",
    "\n",
    "  def forward(self, q, k, v, mask):\n",
    "    batch_size = q.size(0)\n",
    "    d_model = q.size(2)\n",
    "\n",
    "    q = self.wq(q)  # (batch_size, seq_len, d_model)\n",
    "    k = self.wk(k)  # (batch_size, seq_len, d_model)\n",
    "    v = self.wv(v)  # (batch_size, seq_len, d_model)\n",
    "\n",
    "    q = self.split_heads(q, batch_size)  # (batch_size, num_heads, seq_len_q, depth)\n",
    "    k = self.split_heads(k, batch_size)  # (batch_size, num_heads, seq_len_k, depth)\n",
    "    v = self.split_heads(v, batch_size)  # (batch_size, num_heads, seq_len_v, depth)\n",
    "\n",
    "    # scaled_attention.shape == (batch_size, num_heads, seq_len_q, depth)\n",
    "    # attention_weights.shape == (batch_size, num_heads, seq_len_q, seq_len_k)\n",
    "    scaled_attention, attention_weights = scaled_dot_product_attention(q, k, v, mask)\n",
    "\n",
    "    scaled_attention = scaled_attention.transpose(1, 2).contiguous()  # (batch_size, seq_len_q, num_heads, depth)\n",
    "    \n",
    "    concat_attention = scaled_attention.view(batch_size, -1, d_model)  # (batch_size, seq_len_q, d_model)\n",
    "\n",
    "    output = self.wo(concat_attention) # (batch_size, seq_len_q, d_model)\n",
    "\n",
    "    return output, attention_weights"
   ]
  },
  {
   "cell_type": "markdown",
   "metadata": {
    "id": "zsKhHC_rifM5"
   },
   "source": [
    "測試MultiHeadAttention layer是否可執行  \n",
    "(torch.Size([1, 60, 512]), torch.Size([1, 8, 60, 60]))"
   ]
  },
  {
   "cell_type": "code",
   "execution_count": 28,
   "metadata": {
    "colab": {
     "base_uri": "https://localhost:8080/"
    },
    "executionInfo": {
     "elapsed": 391,
     "status": "ok",
     "timestamp": 1629270303502,
     "user": {
      "displayName": "塗子謙",
      "photoUrl": "",
      "userId": "01727064551241555740"
     },
     "user_tz": -480
    },
    "id": "Ue3kkDpZieiK",
    "outputId": "76a8bc8c-d6ff-47f3-9221-09786e6f2a2f"
   },
   "outputs": [
    {
     "data": {
      "text/plain": [
       "(torch.Size([1, 60, 512]), torch.Size([1, 8, 60, 60]))"
      ]
     },
     "execution_count": 28,
     "metadata": {},
     "output_type": "execute_result"
    }
   ],
   "source": [
    "temp_mha = MultiHeadAttention(d_model=512, num_heads=8).to(device)\n",
    "y = torch.rand((1, 60, 512)).to(device)  # (batch_size, encoder_sequence, d_model)\n",
    "out, attn = temp_mha(v=y, k=y, q=y, mask=None)\n",
    "out.shape, attn.shape"
   ]
  },
  {
   "cell_type": "markdown",
   "metadata": {
    "id": "BsMFQJQMXBzA",
    "tags": []
   },
   "source": [
    "### Point wise feed forward network (1~5行)"
   ]
  },
  {
   "cell_type": "markdown",
   "metadata": {
    "id": "ilkycPHpjzo4"
   },
   "source": [
    "*提示*  \n",
    "* 使用`nn.Sequential()`完成\n",
    "* 兩層`nn.Linear`\n",
    "* 中間夾一層`nn.ReLU()`\n"
   ]
  },
  {
   "cell_type": "code",
   "execution_count": 29,
   "metadata": {
    "id": "LnUMtJGDWYVs"
   },
   "outputs": [],
   "source": [
    "def point_wise_feed_forward_network(d_model, dff):\n",
    "    return nn.Sequential(\n",
    "        nn.Linear(d_model, dff) , # (batch_size, seq_len, dff)\n",
    "        nn.ReLU(),\n",
    "        nn.Linear(dff, d_model)  # (batch_size, seq_len, d_model)\n",
    "    )"
   ]
  },
  {
   "cell_type": "markdown",
   "metadata": {
    "id": "Mo8TWXeDkbLI"
   },
   "source": [
    "測試shape是否符合預期  \n",
    "torch.Size([64, 50, 1024])"
   ]
  },
  {
   "cell_type": "code",
   "execution_count": 30,
   "metadata": {
    "colab": {
     "base_uri": "https://localhost:8080/"
    },
    "executionInfo": {
     "elapsed": 407,
     "status": "ok",
     "timestamp": 1629270331197,
     "user": {
      "displayName": "塗子謙",
      "photoUrl": "",
      "userId": "01727064551241555740"
     },
     "user_tz": -480
    },
    "id": "5F-_1MxJkZ_M",
    "outputId": "d1e2e866-ed97-49dd-afe9-5da77b6e9de4"
   },
   "outputs": [
    {
     "data": {
      "text/plain": [
       "torch.Size([64, 50, 1024])"
      ]
     },
     "execution_count": 30,
     "metadata": {},
     "output_type": "execute_result"
    }
   ],
   "source": [
    "sample_ffn = point_wise_feed_forward_network(1024, 2048)\n",
    "sample_ffn(torch.rand((64, 50, 1024))).shape"
   ]
  },
  {
   "cell_type": "markdown",
   "metadata": {
    "id": "wFkPuiCDXDm_",
    "tags": []
   },
   "source": [
    "### Encoder"
   ]
  },
  {
   "cell_type": "markdown",
   "metadata": {
    "id": "E1lt-iIKl7VM"
   },
   "source": [
    "<img src=\"https://www.tensorflow.org/images/tutorials/transformer/transformer.png\" width=\"450\" alt=\"transformer\">  \n",
    "因為這次的task是Sequence Tagging中的NER，只需要對每個token的embedding做classification，  \n",
    "所以只需要使用到Encoder即可，  \n",
    "以下先實作灰色框起來的encoder layer，  \n",
    "再把N個encoder layer疊起來，加上embedding和positional encoding得到完整的Encoder"
   ]
  },
  {
   "cell_type": "markdown",
   "metadata": {
    "id": "It8ZxHdUZub_"
   },
   "source": [
    "Layer Normalization: https://pytorch.org/docs/stable/generated/torch.nn.LayerNorm.html"
   ]
  },
  {
   "cell_type": "code",
   "execution_count": 31,
   "metadata": {
    "id": "L67_Y44qSeWZ"
   },
   "outputs": [],
   "source": [
    "class LayerNorm(nn.Module):\n",
    "    \"Construct a layernorm module (See citation for details).\"\n",
    "    def __init__(self, features, eps=1e-6):\n",
    "        super(LayerNorm, self).__init__()\n",
    "        self.a_2 = nn.Parameter(torch.ones(features))\n",
    "        self.b_2 = nn.Parameter(torch.zeros(features))\n",
    "        self.eps = eps\n",
    "\n",
    "    def forward(self, x):\n",
    "        mean = x.mean(-1, keepdim=True)\n",
    "        std = x.std(-1, keepdim=True)\n",
    "        return self.a_2 * (x - mean) / (std + self.eps) + self.b_2"
   ]
  },
  {
   "cell_type": "markdown",
   "metadata": {
    "id": "ybygsQwdmCxT"
   },
   "source": [
    "#### Encoder layer (約12行)  \n",
    "\n",
    "繼承`nn.Module`\n",
    "\n",
    "*提示*  \n",
    "* \\__init__\\() (6行)\n",
    " * `MultiHeadAttention`\n",
    " * `point_wise_feed_forward_network`\n",
    " * `LayerNorm` 兩層 (傳入d_model)\n",
    " * `nn.Dropout` 兩層 (傳入rate)\n",
    "* forward() (6行)\n",
    " * 把x和mask丟入`MultiHeadAttention`，此處的q、k、v都是x\n",
    " * 將attention丟進dropout1\n",
    " * dropout後的結果再進行layer normalization和residual connection，  \n",
    " 也就是輸入進layernorm1中的是 (x + attn_output)\n",
    "\n",
    " * feed forward layer\n",
    " * 再dropout一次\n",
    " * 再進行layer normalization一次，注意是把第一次layer normalization的結果(out1)加上第二次dropout的結果(ffn_output)"
   ]
  },
  {
   "cell_type": "code",
   "execution_count": 32,
   "metadata": {
    "id": "KRFbUSjTVi8I"
   },
   "outputs": [],
   "source": [
    "class EncoderLayer(nn.Module):\n",
    "  def __init__(self, d_model, num_heads, dff, rate=0.1):\n",
    "    super(EncoderLayer, self).__init__()\n",
    "\n",
    "    self.mha = MultiHeadAttention(d_model=d_model, num_heads=num_heads)\n",
    "    self.ffn = point_wise_feed_forward_network(d_model, dff)\n",
    "\n",
    "    self.layernorm1 = LayerNorm(d_model)\n",
    "    self.layernorm2 = LayerNorm(d_model)\n",
    "\n",
    "    self.dropout1 = nn.Dropout(rate)\n",
    "    self.dropout2 = nn.Dropout(rate)\n",
    "\n",
    "  def forward(self, x, mask):\n",
    "    x = x.float()\n",
    "    attn_output, _ = self.mha(v=x, k=x, q=x, mask=mask)  # (batch_size, input_seq_len, d_model)\n",
    "    attn_output = self.dropout1(attn_output)\n",
    "    out1 = self.layernorm1(x + attn_output)  # (batch_size, input_seq_len, d_model)\n",
    "\n",
    "    ffn_output = self.ffn(out1)  # (batch_size, input_seq_len, d_model)\n",
    "    ffn_output = self.dropout2(ffn_output)\n",
    "    out2 = self.layernorm1(out1 + ffn_output)  # (batch_size, input_seq_len, d_model)\n",
    "\n",
    "    return out2"
   ]
  },
  {
   "cell_type": "markdown",
   "metadata": {
    "id": "vJEio6iTrTpo"
   },
   "source": [
    "Dropout指的是在模型訓練時初始化一定比例的layer的參數，同時會按1/(1-p)的比例縮放其餘參數，可以有效防止overfitting，但只能在training的時候使用，預測時需要忽略，nn.Dropout會偵測模型的狀態`model.train()` or `model.eval()`決定是否使用Dropout\n",
    "\n",
    "對[1,1,1,1]進行dropout(0.5)後有可能會變成[2,2,0,0],[2,0,0,0],[2,0,2,0],[2,2,2,0],[2,2,2,2]....等，因為每個index都有0.5的機會變成0，0.5的機會變成1*( 1/(1-0.5))"
   ]
  },
  {
   "cell_type": "markdown",
   "metadata": {
    "id": "Kfp8MMAqT2xZ"
   },
   "source": [
    "測試EncoderLayer  \n",
    "torch.Size([64, 43, 512])"
   ]
  },
  {
   "cell_type": "code",
   "execution_count": 33,
   "metadata": {
    "colab": {
     "base_uri": "https://localhost:8080/"
    },
    "executionInfo": {
     "elapsed": 444,
     "status": "ok",
     "timestamp": 1629270365641,
     "user": {
      "displayName": "塗子謙",
      "photoUrl": "",
      "userId": "01727064551241555740"
     },
     "user_tz": -480
    },
    "id": "0rD8mHIkTteu",
    "outputId": "83fd58ce-3dfd-4512-d8f0-a9d08fe7cd12"
   },
   "outputs": [
    {
     "data": {
      "text/plain": [
       "torch.Size([64, 43, 512])"
      ]
     },
     "execution_count": 33,
     "metadata": {},
     "output_type": "execute_result"
    }
   ],
   "source": [
    "sample_encoder_layer = EncoderLayer(512, 8, 2048).to(device)\n",
    "\n",
    "sample_encoder_layer_output = sample_encoder_layer(\n",
    "    torch.rand((64, 43, 512)).to(device), None)\n",
    "\n",
    "sample_encoder_layer_output.shape  # (batch_size, input_seq_len, d_model)"
   ]
  },
  {
   "cell_type": "markdown",
   "metadata": {
    "id": "DIB3rN_eXTB5"
   },
   "source": [
    "#### Encoder (約13行)"
   ]
  },
  {
   "cell_type": "markdown",
   "metadata": {
    "id": "Mv-qdc-_Agg_"
   },
   "source": [
    "繼承`nn.Module`  \n",
    "\n",
    "*提示*\n",
    "* \\__init__\\()\n",
    " * d_model和num_layers為輸入的參數\n",
    " * 使用前面訓練好的word embedding作為權重初始值，  \n",
    " `torch.FloatTensor(word_emb)`，  \n",
    " 宣告embedding為`nn.Embedding.from_pretrained`並傳入初始值  \n",
    "\n",
    " * `positional_encoding` 傳入兩個參數\n",
    "\n",
    " * `nn.ModuleList([])`，用迴圈宣告出一個list放入，裡面總共有num_layers個EncoderLayer\n",
    " * `nn.Dropout`\n",
    "* forward()\n",
    " * 取得input_seq_len，x的shape為(batch_size, input_seq_len)\n",
    "\n",
    " * 把x輸入進embedding layer\n",
    " * 把embedding的值乘上${\\sqrt{d_k}}$ (已完成)\n",
    " * 加上position_encoding，從(batch_size, maximum_position_encoding, d_model)中，  \n",
    " 取前seq_len個encoding並和embedding相加 (已完成)\n",
    " * dropout\n",
    " * 從enc_layers[0]開始，把x一層層傳進所有encoder layer中，  \n",
    " 每層都會輸出新的x，總共有self.num_layers個，最後的x就是最後一層encoder layer的輸出"
   ]
  },
  {
   "cell_type": "code",
   "execution_count": 34,
   "metadata": {
    "id": "37Vsql8GVpiZ"
   },
   "outputs": [],
   "source": [
    "class Encoder(nn.Module):\n",
    "  def __init__(self, num_layers, d_model, num_heads, dff, input_vocab_size,\n",
    "               maximum_position_encoding, word_emb, rate=0.1):\n",
    "    super(Encoder, self).__init__()\n",
    "\n",
    "    self.d_model = d_model\n",
    "    self.num_layers = num_layers\n",
    "\n",
    "    self.word_emb = torch.FloatTensor(word_emb)\n",
    "    self.embedding = nn.Embedding.from_pretrained(self.word_emb)\n",
    "    self.pos_encoding = positional_encoding(maximum_position_encoding, d_model)\n",
    "\n",
    "\n",
    "    self.enc_layers = nn.ModuleList([EncoderLayer(d_model, num_heads, dff, rate) for _ in range(num_layers)])\n",
    "\n",
    "    self.dropout = nn.Dropout(rate)\n",
    "\n",
    "  def forward(self, x, mask):\n",
    "    # x: (batch_size, input_seq_len)\n",
    "    seq_len = x.size(1)\n",
    "\n",
    "    # adding embedding and position encoding.\n",
    "    x = self.embedding(x)  # (batch_size, input_seq_len, d_model)\n",
    "\n",
    "    x *= math.sqrt(self.d_model)\n",
    "    x = (x.cpu() + self.pos_encoding[:, :seq_len, :]).to(device)\n",
    "\n",
    "    x = self.dropout(x)\n",
    "\n",
    "    for i in range(self.num_layers):\n",
    "      x = self.enc_layers[i](x, mask) \n",
    "\n",
    "    return x  # (batch_size, input_seq_len, d_model)"
   ]
  },
  {
   "cell_type": "markdown",
   "metadata": {
    "id": "Vxawx8C-YKkX"
   },
   "source": [
    "測試Encoder  \n",
    "torch.Size([64, 62, 128])"
   ]
  },
  {
   "cell_type": "code",
   "execution_count": 35,
   "metadata": {
    "colab": {
     "base_uri": "https://localhost:8080/"
    },
    "executionInfo": {
     "elapsed": 390,
     "status": "ok",
     "timestamp": 1629270392170,
     "user": {
      "displayName": "塗子謙",
      "photoUrl": "",
      "userId": "01727064551241555740"
     },
     "user_tz": -480
    },
    "id": "3LQBdW3GYOl4",
    "outputId": "17436ba5-9894-4608-8364-f09cfb9d54f8"
   },
   "outputs": [
    {
     "name": "stdout",
     "output_type": "stream",
     "text": [
      "torch.Size([64, 62, 128])\n"
     ]
    }
   ],
   "source": [
    "sample_encoder = Encoder(num_layers=2, d_model=128, num_heads=8,\n",
    "                         dff=2048, input_vocab_size=vocab_size,\n",
    "                         maximum_position_encoding=10000, word_emb=word_embedding).to(device)\n",
    "\n",
    "temp_input = torch.randint(size=(64, 62), low=0, high=200, dtype=torch.int64).to(device)\n",
    "\n",
    "sample_encoder_output = sample_encoder(temp_input, mask=None)\n",
    "\n",
    "print(sample_encoder_output.shape)  # (batch_size, input_seq_len, d_model)"
   ]
  },
  {
   "cell_type": "markdown",
   "metadata": {
    "id": "dXOC_oA1Xa4X"
   },
   "source": [
    "### Transformer (4行)"
   ]
  },
  {
   "cell_type": "markdown",
   "metadata": {
    "id": "yQRuf4mYmr7u"
   },
   "source": [
    "繼承`nn.Module`，把剛剛的encoder layer再接上最外層的Linear layer即可\n",
    "\n",
    "*提示*  \n",
    "* 使用輸入的參數在\\__init__\\()中宣告Encoder和`nn.Linear` (2行)\n",
    "* forward() function中把輸入丟到encoder後再經過Dense layer就可輸出了 (2行)"
   ]
  },
  {
   "cell_type": "code",
   "execution_count": 36,
   "metadata": {
    "id": "GrS5JMVYuT4c"
   },
   "outputs": [],
   "source": [
    "class TaggingTransformer(nn.Module):\n",
    "  def __init__(self, num_layers, d_model, num_heads, dff, input_vocab_size,\n",
    "               label_size, pe_input, word_emb, rate=0.1):\n",
    "    super(TaggingTransformer, self).__init__()\n",
    "\n",
    "    self.encoder = Encoder(num_layers=num_layers, d_model=d_model, num_heads=num_heads,\n",
    "                           dff=dff, input_vocab_size=input_vocab_size,\n",
    "                           maximum_position_encoding=pe_input, word_emb=word_emb)\n",
    "\n",
    "    self.final_layer = nn.Linear(d_model, label_size)\n",
    "\n",
    "  def forward(self, inp, enc_padding_mask):\n",
    "\n",
    "    enc_output = self.encoder(inp, enc_padding_mask)  # (batch_size, inp_seq_len, d_model)\n",
    "\n",
    "    final_output = self.final_layer(enc_output)  # (batch_size, tar_seq_len, label_size)\n",
    "\n",
    "    return final_output"
   ]
  },
  {
   "cell_type": "markdown",
   "metadata": {
    "id": "tE_f_p8DeWQr"
   },
   "source": [
    "測試Transformer  \n",
    "torch.Size([64, 38, 10])"
   ]
  },
  {
   "cell_type": "code",
   "execution_count": 37,
   "metadata": {
    "colab": {
     "base_uri": "https://localhost:8080/"
    },
    "executionInfo": {
     "elapsed": 788,
     "status": "ok",
     "timestamp": 1629270418252,
     "user": {
      "displayName": "塗子謙",
      "photoUrl": "",
      "userId": "01727064551241555740"
     },
     "user_tz": -480
    },
    "id": "WrjTJ1mZc_0g",
    "outputId": "08e0cd86-349a-4c2d-b87d-cc8f968afa7d"
   },
   "outputs": [
    {
     "data": {
      "text/plain": [
       "torch.Size([64, 38, 10])"
      ]
     },
     "execution_count": 37,
     "metadata": {},
     "output_type": "execute_result"
    }
   ],
   "source": [
    "sample_transformer = TaggingTransformer(\n",
    "    num_layers=2, d_model=128, num_heads=8, dff=2048,\n",
    "    input_vocab_size=vocab_size, label_size=10,\n",
    "    pe_input=10000, word_emb=word_embedding).to(device)\n",
    "\n",
    "temp_input = torch.randint(size=(64, 38), dtype=torch.int64, low=0, high=200).to(device)\n",
    "\n",
    "fn_out = sample_transformer(temp_input, enc_padding_mask=None)\n",
    "\n",
    "fn_out.shape  # (batch_size, tar_seq_len, label_size)"
   ]
  },
  {
   "cell_type": "markdown",
   "metadata": {
    "id": "wsINyf1VEQLC"
   },
   "source": [
    "### Set hyperparameters"
   ]
  },
  {
   "cell_type": "markdown",
   "metadata": {
    "id": "zVjWCxFNcgbt"
   },
   "source": [
    "To keep this example small and relatively fast, the values for *num_layers, d_model, and dff* have been reduced.\n",
    "\n",
    "The values used in the base model of transformer were; *num_layers=6*, *d_model = 512*, *dff = 2048*. See the [paper](https://arxiv.org/abs/1706.03762) for all the other versions of the transformer.\n",
    "\n",
    "Note: By changing the values below, you can get the model that achieved state of the art on many tasks."
   ]
  },
  {
   "cell_type": "code",
   "execution_count": 38,
   "metadata": {
    "id": "lnJn5SLA2ahP"
   },
   "outputs": [],
   "source": [
    "num_layers = 4\n",
    "d_model = 128\n",
    "dff = 512\n",
    "num_heads = 8\n",
    "\n",
    "input_vocab_size = vocab_size\n",
    "label_size = 10\n",
    "dropout_rate = 0.1"
   ]
  },
  {
   "cell_type": "markdown",
   "metadata": {
    "id": "YgkDE7hzo8r5"
   },
   "source": [
    "## Loss and metrics (1行)"
   ]
  },
  {
   "cell_type": "markdown",
   "metadata": {
    "id": "oxGJtoDuYIHL"
   },
   "source": [
    "*提示*  \n",
    "* 使用`nn.CrossEntropyLoss`，ignore_index來把值為0的都忽略\n"
   ]
  },
  {
   "cell_type": "code",
   "execution_count": 39,
   "metadata": {
    "id": "MlhsJMm0TW_B"
   },
   "outputs": [],
   "source": [
    "loss_object = nn.CrossEntropyLoss(ignore_index=0)"
   ]
  },
  {
   "cell_type": "markdown",
   "metadata": {
    "id": "aeHumfr7zmMa"
   },
   "source": [
    "## Training and checkpointing"
   ]
  },
  {
   "cell_type": "markdown",
   "metadata": {
    "id": "LERu_23t9Zcr"
   },
   "source": [
    "到這裡才真正使用參數建立出Transformer model"
   ]
  },
  {
   "cell_type": "code",
   "execution_count": 40,
   "metadata": {
    "id": "hf-qXgffu1I6"
   },
   "outputs": [],
   "source": [
    "transformer = TaggingTransformer(num_layers, d_model, num_heads, dff,\n",
    "                          input_vocab_size, label_size,\n",
    "                          pe_input=input_vocab_size,\n",
    "                          word_emb=word_embedding,\n",
    "                          rate=dropout_rate).to(device)"
   ]
  },
  {
   "cell_type": "markdown",
   "metadata": {
    "id": "xYEGhEOtzn5W"
   },
   "source": [
    "## Optimizer (1行)"
   ]
  },
  {
   "cell_type": "markdown",
   "metadata": {
    "id": "dT3EOOMIANcA"
   },
   "source": [
    "使用`torch.optim.Adam`，傳入模型所有可訓練的weight (`.parameters()`) 和learning_rate"
   ]
  },
  {
   "cell_type": "code",
   "execution_count": 41,
   "metadata": {
    "id": "7r4scdulztRx"
   },
   "outputs": [],
   "source": [
    "learning_rate = 0.001\n",
    "\n",
    "optimizer = torch.optim.Adam(transformer.parameters(), learning_rate)"
   ]
  },
  {
   "cell_type": "code",
   "execution_count": 42,
   "metadata": {
    "id": "LKpoA6q1sJFj"
   },
   "outputs": [],
   "source": [
    "EPOCHS = 20"
   ]
  },
  {
   "cell_type": "markdown",
   "metadata": {
    "id": "cmBma9Qk8uF4"
   },
   "source": [
    "### 設定evaluate function"
   ]
  },
  {
   "cell_type": "markdown",
   "metadata": {
    "id": "iOfNmpTm6cQi"
   },
   "source": [
    "在每個epoch結束後，用eval資料來評估整個模型是否overfitting  \n",
    "*提示*  \n",
    "* predictions是transformer的預測結果\n",
    "* loss是前面定義的loss_object，注意predictions輸入時的shape要是(batch_size, label_size, seq_len)"
   ]
  },
  {
   "cell_type": "code",
   "execution_count": 43,
   "metadata": {
    "id": "TLYlJ01xVKDc"
   },
   "outputs": [],
   "source": [
    "def evaluate(eval_loader, model, loss_object):\n",
    "  model.eval()\n",
    "\n",
    "  with torch.no_grad():\n",
    "\n",
    "    running_loss = 0.0\n",
    "    correct = 0\n",
    "    total = 0\n",
    "\n",
    "    for (batch, (inp, tar)) in enumerate(eval_loader):\n",
    "      inp = inp.to(device)\n",
    "      tar = tar.to(device)\n",
    "      enc_padding_mask = create_padding_mask(inp).to(device)\n",
    "\n",
    "      # predictions.shape == (batch_size, seq_len, label_size)\n",
    "      predictions = transformer(inp, enc_padding_mask)\n",
    "\n",
    "      _, predictions_id = torch.max(predictions, -1)\n",
    "\n",
    "      predictions_id *= tar.bool().long()\n",
    "\n",
    "      correct += (predictions_id == tar).sum().item() - (tar == 0).sum().item()\n",
    "      total += (tar != 0).sum().item()\n",
    "\n",
    "      loss = loss_object(predictions.transpose(1, 2), tar)\n",
    "\n",
    "      running_loss += loss.item()\n",
    "\n",
    "    print('Evaluate loss: {:.4f} acc: {:.4f}%\\n'.format(running_loss / len(eval_loader), 100 * correct / total))"
   ]
  },
  {
   "cell_type": "markdown",
   "metadata": {
    "id": "pUwsCkco9G2i"
   },
   "source": [
    "### 設定train_step (約7行)\n",
    "\n",
    "*提示*  \n",
    "* 在每個batch中\n",
    " * 初始化optimizer (`.zero_grad()`)\n",
    " * 預測答案(transformer)得到predictions\n",
    "* `loss_object`輸入predictions和target算出loss，注意predictions的shape要是(batch_size, label_size, seq_len)\n",
    "* `.backward()`反向傳播\n",
    "* `.step()` 更新模型"
   ]
  },
  {
   "cell_type": "markdown",
   "metadata": {
    "id": "--LefCQe6stp"
   },
   "source": [
    "跑EPOCHS個epoch  \n",
    "\n",
    "每5個epoch存一次checkpoint"
   ]
  },
  {
   "cell_type": "code",
   "execution_count": 44,
   "metadata": {
    "colab": {
     "base_uri": "https://localhost:8080/"
    },
    "executionInfo": {
     "elapsed": 399,
     "status": "ok",
     "timestamp": 1629270464797,
     "user": {
      "displayName": "塗子謙",
      "photoUrl": "",
      "userId": "01727064551241555740"
     },
     "user_tz": -480
    },
    "id": "OH5Od_eGh_It",
    "outputId": "beafe7fe-41ba-4ad0-c3e1-14ea7b1d4d32"
   },
   "outputs": [
    {
     "name": "stdout",
     "output_type": "stream",
     "text": [
      "Epoch 1 Batch 50 Loss 0.7283\n",
      "Epoch 1 Batch 100 Loss 0.5844\n",
      "Epoch 1 Batch 150 Loss 0.5531\n",
      "Epoch 1 Batch 200 Loss 0.5574\n",
      "Time taken for 1 epoch: 7.440134525299072 secs\n",
      "\n",
      "Evaluate loss: 0.5726 acc: 85.0816%\n",
      "\n",
      "Epoch 2 Batch 50 Loss 0.5364\n",
      "Epoch 2 Batch 100 Loss 0.5341\n",
      "Epoch 2 Batch 150 Loss 0.5188\n",
      "Epoch 2 Batch 200 Loss 0.5100\n",
      "Time taken for 1 epoch: 7.323398113250732 secs\n",
      "\n",
      "Evaluate loss: 0.5467 acc: 85.3027%\n",
      "\n",
      "Epoch 3 Batch 50 Loss 0.5284\n",
      "Epoch 3 Batch 100 Loss 0.4922\n",
      "Epoch 3 Batch 150 Loss 0.4855\n",
      "Epoch 3 Batch 200 Loss 0.4761\n",
      "Time taken for 1 epoch: 7.356501817703247 secs\n",
      "\n",
      "Evaluate loss: 0.5386 acc: 85.3473%\n",
      "\n",
      "Epoch 4 Batch 50 Loss 0.5026\n",
      "Epoch 4 Batch 100 Loss 0.4740\n",
      "Epoch 4 Batch 150 Loss 0.4704\n",
      "Epoch 4 Batch 200 Loss 0.4637\n",
      "Time taken for 1 epoch: 7.242371082305908 secs\n",
      "\n",
      "Evaluate loss: 0.5441 acc: 85.5470%\n",
      "\n",
      "Epoch 5 Batch 50 Loss 0.4756\n",
      "Epoch 5 Batch 100 Loss 0.4696\n",
      "Epoch 5 Batch 150 Loss 0.4572\n",
      "Epoch 5 Batch 200 Loss 0.4558\n",
      "Saving checkpoint for epoch 5 at output//checkpoint_5\n",
      "Time taken for 1 epoch: 7.222784042358398 secs\n",
      "\n",
      "Evaluate loss: 0.5210 acc: 85.6943%\n",
      "\n",
      "Epoch 6 Batch 50 Loss 0.4584\n",
      "Epoch 6 Batch 100 Loss 0.4564\n",
      "Epoch 6 Batch 150 Loss 0.4523\n",
      "Epoch 6 Batch 200 Loss 0.4514\n",
      "Time taken for 1 epoch: 7.087124586105347 secs\n",
      "\n",
      "Evaluate loss: 0.5185 acc: 85.8436%\n",
      "\n",
      "Epoch 7 Batch 50 Loss 0.4556\n",
      "Epoch 7 Batch 100 Loss 0.4522\n",
      "Epoch 7 Batch 150 Loss 0.4483\n",
      "Epoch 7 Batch 200 Loss 0.4429\n",
      "Time taken for 1 epoch: 5.7786524295806885 secs\n",
      "\n",
      "Evaluate loss: 0.5184 acc: 85.7467%\n",
      "\n",
      "Epoch 8 Batch 50 Loss 0.4478\n",
      "Epoch 8 Batch 100 Loss 0.4456\n",
      "Epoch 8 Batch 150 Loss 0.4293\n",
      "Epoch 8 Batch 200 Loss 0.4429\n",
      "Time taken for 1 epoch: 4.444855690002441 secs\n",
      "\n",
      "Evaluate loss: 0.5068 acc: 85.9716%\n",
      "\n",
      "Epoch 9 Batch 50 Loss 0.4409\n",
      "Epoch 9 Batch 100 Loss 0.4272\n",
      "Epoch 9 Batch 150 Loss 0.4297\n",
      "Epoch 9 Batch 200 Loss 0.4095\n",
      "Time taken for 1 epoch: 4.457288980484009 secs\n",
      "\n",
      "Evaluate loss: 0.5040 acc: 86.0550%\n",
      "\n",
      "Epoch 10 Batch 50 Loss 0.4322\n",
      "Epoch 10 Batch 100 Loss 0.4030\n",
      "Epoch 10 Batch 150 Loss 0.4242\n",
      "Epoch 10 Batch 200 Loss 0.4200\n",
      "Saving checkpoint for epoch 10 at output//checkpoint_10\n",
      "Time taken for 1 epoch: 6.509807348251343 secs\n",
      "\n",
      "Evaluate loss: 0.5252 acc: 85.8650%\n",
      "\n",
      "Epoch 11 Batch 50 Loss 0.4203\n",
      "Epoch 11 Batch 100 Loss 0.4098\n",
      "Epoch 11 Batch 150 Loss 0.4157\n",
      "Epoch 11 Batch 200 Loss 0.4199\n",
      "Time taken for 1 epoch: 7.163383483886719 secs\n",
      "\n",
      "Evaluate loss: 0.5471 acc: 85.5722%\n",
      "\n",
      "Epoch 12 Batch 50 Loss 0.4081\n",
      "Epoch 12 Batch 100 Loss 0.4105\n",
      "Epoch 12 Batch 150 Loss 0.3884\n",
      "Epoch 12 Batch 200 Loss 0.4015\n",
      "Time taken for 1 epoch: 7.387401342391968 secs\n",
      "\n",
      "Evaluate loss: 0.5357 acc: 85.8979%\n",
      "\n",
      "Epoch 13 Batch 50 Loss 0.4041\n",
      "Epoch 13 Batch 100 Loss 0.3863\n",
      "Epoch 13 Batch 150 Loss 0.4036\n",
      "Epoch 13 Batch 200 Loss 0.4011\n",
      "Time taken for 1 epoch: 6.677728176116943 secs\n",
      "\n",
      "Evaluate loss: 0.5374 acc: 85.6245%\n",
      "\n",
      "Epoch 14 Batch 50 Loss 0.4040\n",
      "Epoch 14 Batch 100 Loss 0.3916\n",
      "Epoch 14 Batch 150 Loss 0.3781\n",
      "Epoch 14 Batch 200 Loss 0.3963\n",
      "Time taken for 1 epoch: 5.366381406784058 secs\n",
      "\n",
      "Evaluate loss: 0.5402 acc: 85.7351%\n",
      "\n",
      "Epoch 15 Batch 50 Loss 0.4039\n",
      "Epoch 15 Batch 100 Loss 0.3947\n",
      "Epoch 15 Batch 150 Loss 0.3856\n",
      "Epoch 15 Batch 200 Loss 0.3800\n",
      "Saving checkpoint for epoch 15 at output//checkpoint_15\n",
      "Time taken for 1 epoch: 7.3546576499938965 secs\n",
      "\n",
      "Evaluate loss: 0.5336 acc: 85.9736%\n",
      "\n",
      "Epoch 16 Batch 50 Loss 0.3739\n",
      "Epoch 16 Batch 100 Loss 0.3801\n",
      "Epoch 16 Batch 150 Loss 0.3710\n",
      "Epoch 16 Batch 200 Loss 0.3871\n",
      "Time taken for 1 epoch: 7.303461790084839 secs\n",
      "\n",
      "Evaluate loss: 0.5534 acc: 85.1902%\n",
      "\n",
      "Epoch 17 Batch 50 Loss 0.3799\n",
      "Epoch 17 Batch 100 Loss 0.3603\n",
      "Epoch 17 Batch 150 Loss 0.3798\n",
      "Epoch 17 Batch 200 Loss 0.3571\n",
      "Time taken for 1 epoch: 7.383685350418091 secs\n",
      "\n",
      "Evaluate loss: 0.5900 acc: 85.4675%\n",
      "\n",
      "Epoch 18 Batch 50 Loss 0.3675\n",
      "Epoch 18 Batch 100 Loss 0.3633\n",
      "Epoch 18 Batch 150 Loss 0.3631\n",
      "Epoch 18 Batch 200 Loss 0.3652\n",
      "Time taken for 1 epoch: 7.277272701263428 secs\n",
      "\n",
      "Evaluate loss: 0.5719 acc: 85.4597%\n",
      "\n",
      "Epoch 19 Batch 50 Loss 0.3626\n",
      "Epoch 19 Batch 100 Loss 0.3684\n",
      "Epoch 19 Batch 150 Loss 0.3630\n",
      "Epoch 19 Batch 200 Loss 0.3609\n",
      "Time taken for 1 epoch: 7.067366123199463 secs\n",
      "\n",
      "Evaluate loss: 0.5486 acc: 85.2503%\n",
      "\n",
      "Epoch 20 Batch 50 Loss 0.3623\n",
      "Epoch 20 Batch 100 Loss 0.3508\n",
      "Epoch 20 Batch 150 Loss 0.3583\n",
      "Epoch 20 Batch 200 Loss 0.3422\n",
      "Saving checkpoint for epoch 20 at output//checkpoint_20\n",
      "Time taken for 1 epoch: 4.453988790512085 secs\n",
      "\n",
      "Evaluate loss: 0.5388 acc: 86.0007%\n",
      "\n",
      "Finished Training\n"
     ]
    }
   ],
   "source": [
    "for epoch in range(EPOCHS):  # loop over the dataset multiple times\n",
    "  start = time.time()\n",
    "\n",
    "  running_loss = 0.0\n",
    "\n",
    "  transformer.train()\n",
    "\n",
    "  for (batch, (inp, tar)) in enumerate(train_loader):\n",
    "    inp = inp.to(device)\n",
    "    tar = tar.to(device)\n",
    "    enc_padding_mask = create_padding_mask(inp).to(device)\n",
    "\n",
    "    # zero the parameter gradients\n",
    "    optimizer.zero_grad()\n",
    "    # forward + backward + optimize\n",
    "    predictions = transformer(inp, enc_padding_mask)\n",
    "\n",
    "    loss = loss_object(predictions.transpose(1, 2), tar)\n",
    "\n",
    "    loss.backward()\n",
    "    optimizer.step()\n",
    "\n",
    "    # print statistics\n",
    "    running_loss += loss.item()\n",
    "    if batch % 50 == 0 and batch != 0:\n",
    "      print('Epoch {} Batch {} Loss {:.4f}'.format(\n",
    "          epoch + 1, batch, running_loss / 50))\n",
    "      running_loss = 0.0\n",
    "\n",
    "  if (epoch + 1) % 5 == 0:\n",
    "    torch.save(transformer.state_dict(), output_path + '/checkpoint_{}'.format(epoch + 1))\n",
    "    print ('Saving checkpoint for epoch {} at {}'.format(epoch+1, output_path + '/checkpoint_{}'.format(epoch + 1)))\n",
    "\n",
    "  print ('Time taken for 1 epoch: {} secs\\n'.format(time.time() - start))\n",
    "\n",
    "  evaluate(eval_loader, transformer, loss_object)\n",
    "\n",
    "print('Finished Training')"
   ]
  },
  {
   "cell_type": "markdown",
   "metadata": {
    "id": "hyU0bfio92os"
   },
   "source": [
    "## Predicting on test data (3行)"
   ]
  },
  {
   "cell_type": "markdown",
   "metadata": {
    "id": "RBzci0nF92os"
   },
   "source": [
    "在訓練完之後，預測在test data上，  \n",
    "因為沒有答案也不用算accuracy，只需要處理padding部分的輸出，  \n",
    "把input中padding的部分用資料型態轉換得出，再和預測的輸出相乘，(不推薦)  \n",
    "最後reshape成一維後，用一個list放所有的結果\n",
    "\n",
    "*提示*  \n",
    "* 預測答案\n",
    "* `torch.max` 回傳指定dim中最大的位置\n",
    "* 把inp轉bool再轉int"
   ]
  },
  {
   "cell_type": "code",
   "execution_count": 50,
   "metadata": {
    "id": "0BzSfyxvDaXF"
   },
   "outputs": [],
   "source": [
    "def predict(test_loader, model):\n",
    "  result = []\n",
    "\n",
    "  for (batch, (inp)) in enumerate(test_loader):\n",
    "    enc_padding_mask = create_padding_mask(inp).to(device)\n",
    "    inp = inp.to(device)\n",
    "\n",
    "    # predictions.shape == (batch_size, seq_len, label_size)\n",
    "    predictions = transformer(inp, enc_padding_mask)\n",
    "\n",
    "    _, predicted_id = torch.max(predictions, -1)\n",
    "    \n",
    "    predicted_id *= inp.bool().long()             #tar.bool().long()\n",
    "\n",
    "    result += predicted_id.view(-1).cpu().numpy().tolist()\n",
    "  return result"
   ]
  },
  {
   "cell_type": "markdown",
   "metadata": {
    "id": "vWHe3l1l7-jA"
   },
   "source": [
    "如果預測結果中有0代表是padding，就在把數字label轉換成文字時忽略掉。 (不推薦)"
   ]
  },
  {
   "cell_type": "code",
   "execution_count": 51,
   "metadata": {
    "colab": {
     "base_uri": "https://localhost:8080/"
    },
    "executionInfo": {
     "elapsed": 392,
     "status": "ok",
     "timestamp": 1629270518381,
     "user": {
      "displayName": "塗子謙",
      "photoUrl": "",
      "userId": "01727064551241555740"
     },
     "user_tz": -480
    },
    "id": "TMQYp0SOU4Qw",
    "outputId": "2f97edb1-57dd-4705-de63-b25232f3edb1"
   },
   "outputs": [
    {
     "name": "stdout",
     "output_type": "stream",
     "text": [
      "['O', 'O', 'O', 'O', 'O', 'O', 'O', 'O', 'O', 'O', 'O', 'O', 'O', 'O', 'O', 'O', 'O', 'O', 'O', 'O']\n"
     ]
    }
   ],
   "source": [
    "output_id = predict(test_loader, transformer)\n",
    "output_tag = [idx2tag[token] for token in output_id if token != 0]\n",
    "print(output_tag[:20])"
   ]
  },
  {
   "cell_type": "markdown",
   "metadata": {
    "id": "l-FEq-sc8NOi"
   },
   "source": [
    "根據格式，輸出到test_result中"
   ]
  },
  {
   "cell_type": "code",
   "execution_count": 52,
   "metadata": {
    "id": "jV6078xNVL28"
   },
   "outputs": [],
   "source": [
    "output_position = 0\n",
    "with open(output_path + '/test_result.txt', 'w') as f:\n",
    "    for line in test_words:\n",
    "        for word in line:\n",
    "            f.write('{} {}\\n'.format(word, output_tag[output_position]))\n",
    "            output_position += 1\n",
    "        f.write('\\n')\n"
   ]
  },
  {
   "cell_type": "code",
   "execution_count": null,
   "metadata": {},
   "outputs": [],
   "source": []
  }
 ],
 "metadata": {
  "accelerator": "GPU",
  "colab": {
   "collapsed_sections": [
    "nBQuibYA4n0n"
   ],
   "provenance": [
    {
     "file_id": "1xC0NRuJYhk7NMAVFrIqfkJl-QmuOJXhp",
     "timestamp": 1689165771156
    },
    {
     "file_id": "1c2LQtX7bJU_ImHzlc7TIa_KHaVX0qjDc",
     "timestamp": 1597877392977
    },
    {
     "file_id": "1GjsCXAqt1bu-cPigOQotnjPYy_ER8SUt",
     "timestamp": 1597844870816
    }
   ]
  },
  "kernelspec": {
   "display_name": "Python 3 (ipykernel)",
   "language": "python",
   "name": "python3"
  },
  "language_info": {
   "codemirror_mode": {
    "name": "ipython",
    "version": 3
   },
   "file_extension": ".py",
   "mimetype": "text/x-python",
   "name": "python",
   "nbconvert_exporter": "python",
   "pygments_lexer": "ipython3",
   "version": "3.10.12"
  }
 },
 "nbformat": 4,
 "nbformat_minor": 4
}
